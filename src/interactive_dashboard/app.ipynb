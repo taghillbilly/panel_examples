{
 "cells": [
  {
   "cell_type": "code",
   "execution_count": 2,
   "id": "fdc9dea9-977d-47ec-a607-c4302a010733",
   "metadata": {
    "execution": {
     "iopub.execute_input": "2023-02-27T08:30:05.663353Z",
     "iopub.status.busy": "2023-02-27T08:30:05.663353Z",
     "iopub.status.idle": "2023-02-27T08:30:10.771427Z",
     "shell.execute_reply": "2023-02-27T08:30:10.770426Z",
     "shell.execute_reply.started": "2023-02-27T08:30:05.663353Z"
    }
   },
   "outputs": [
    {
     "data": {
      "application/javascript": "(function(root) {\n  function now() {\n    return new Date();\n  }\n\n  var force = true;\n\n  if (typeof root._bokeh_onload_callbacks === \"undefined\" || force === true) {\n    root._bokeh_onload_callbacks = [];\n    root._bokeh_is_loading = undefined;\n  }\n\n  if (typeof (root._bokeh_timeout) === \"undefined\" || force === true) {\n    root._bokeh_timeout = Date.now() + 5000;\n    root._bokeh_failed_load = false;\n  }\n\n  function run_callbacks() {\n    try {\n      root._bokeh_onload_callbacks.forEach(function(callback) {\n        if (callback != null)\n          callback();\n      });\n    } finally {\n      delete root._bokeh_onload_callbacks\n    }\n    console.debug(\"Bokeh: all callbacks have finished\");\n  }\n\n  function load_libs(css_urls, js_urls, js_modules, callback) {\n    if (css_urls == null) css_urls = [];\n    if (js_urls == null) js_urls = [];\n    if (js_modules == null) js_modules = [];\n\n    root._bokeh_onload_callbacks.push(callback);\n    if (root._bokeh_is_loading > 0) {\n      console.debug(\"Bokeh: BokehJS is being loaded, scheduling callback at\", now());\n      return null;\n    }\n    if (js_urls.length === 0 && js_modules.length === 0) {\n      run_callbacks();\n      return null;\n    }\n    console.debug(\"Bokeh: BokehJS not loaded, scheduling load and callback at\", now());\n\n    function on_load() {\n      root._bokeh_is_loading--;\n      if (root._bokeh_is_loading === 0) {\n        console.debug(\"Bokeh: all BokehJS libraries/stylesheets loaded\");\n        run_callbacks()\n      }\n    }\n\n    function on_error() {\n      console.error(\"failed to load \" + url);\n    }\n\n    for (var i = 0; i < css_urls.length; i++) {\n      var url = css_urls[i];\n      const element = document.createElement(\"link\");\n      element.onload = on_load;\n      element.onerror = on_error;\n      element.rel = \"stylesheet\";\n      element.type = \"text/css\";\n      element.href = url;\n      console.debug(\"Bokeh: injecting link tag for BokehJS stylesheet: \", url);\n      document.body.appendChild(element);\n    }\n\n    var skip = [];\n    if (window.requirejs) {\n      window.requirejs.config({'packages': {}, 'paths': {'tabulator': 'https://unpkg.com/tabulator-tables@4.9.3/dist/js/tabulator', 'moment': 'https://cdn.jsdelivr.net/npm/luxon/build/global/luxon.min', 'gridstack': 'https://cdn.jsdelivr.net/npm/gridstack@4.2.5/dist/gridstack-h5', 'notyf': 'https://cdn.jsdelivr.net/npm/notyf@3/notyf.min'}, 'shim': {'gridstack': {'exports': 'GridStack'}}});\n      require([\"tabulator\"], function(Tabulator) {\n\twindow.Tabulator = Tabulator\n\ton_load()\n      })\n      require([\"moment\"], function(moment) {\n\twindow.moment = moment\n\ton_load()\n      })\n      require([\"gridstack\"], function(GridStack) {\n\twindow.GridStack = GridStack\n\ton_load()\n      })\n      require([\"notyf\"], function() {\n\ton_load()\n      })\n      root._bokeh_is_loading = css_urls.length + 4;\n    } else {\n      root._bokeh_is_loading = css_urls.length + js_urls.length + js_modules.length;\n    }    if (((window['Tabulator'] !== undefined) && (!(window['Tabulator'] instanceof HTMLElement))) || window.requirejs) {\n      var urls = ['https://unpkg.com/tabulator-tables@4.9.3/dist/js/tabulator.js'];\n      for (var i = 0; i < urls.length; i++) {\n        skip.push(urls[i])\n      }\n    }    if (((window['moment'] !== undefined) && (!(window['moment'] instanceof HTMLElement))) || window.requirejs) {\n      var urls = ['https://cdn.jsdelivr.net/npm/luxon/build/global/luxon.min.js'];\n      for (var i = 0; i < urls.length; i++) {\n        skip.push(urls[i])\n      }\n    }    if (((window['GridStack'] !== undefined) && (!(window['GridStack'] instanceof HTMLElement))) || window.requirejs) {\n      var urls = ['https://cdn.jsdelivr.net/npm/gridstack@4.2.5/dist/gridstack-h5.js'];\n      for (var i = 0; i < urls.length; i++) {\n        skip.push(urls[i])\n      }\n    }    if (((window['Notyf'] !== undefined) && (!(window['Notyf'] instanceof HTMLElement))) || window.requirejs) {\n      var urls = ['https://cdn.jsdelivr.net/npm/notyf@3/notyf.min.js'];\n      for (var i = 0; i < urls.length; i++) {\n        skip.push(urls[i])\n      }\n    }    for (var i = 0; i < js_urls.length; i++) {\n      var url = js_urls[i];\n      if (skip.indexOf(url) >= 0) {\n\tif (!window.requirejs) {\n\t  on_load();\n\t}\n\tcontinue;\n      }\n      var element = document.createElement('script');\n      element.onload = on_load;\n      element.onerror = on_error;\n      element.async = false;\n      element.src = url;\n      console.debug(\"Bokeh: injecting script tag for BokehJS library: \", url);\n      document.head.appendChild(element);\n    }\n    for (var i = 0; i < js_modules.length; i++) {\n      var url = js_modules[i];\n      if (skip.indexOf(url) >= 0) {\n\tif (!window.requirejs) {\n\t  on_load();\n\t}\n\tcontinue;\n      }\n      var element = document.createElement('script');\n      element.onload = on_load;\n      element.onerror = on_error;\n      element.async = false;\n      element.src = url;\n      element.type = \"module\";\n      console.debug(\"Bokeh: injecting script tag for BokehJS library: \", url);\n      document.head.appendChild(element);\n    }\n    if (!js_urls.length && !js_modules.length) {\n      on_load()\n    }\n  };\n\n  function inject_raw_css(css) {\n    const element = document.createElement(\"style\");\n    element.appendChild(document.createTextNode(css));\n    document.body.appendChild(element);\n  }\n\n  var js_urls = [\"https://unpkg.com/tabulator-tables@4.9.3/dist/js/tabulator.js\", \"https://cdn.jsdelivr.net/npm/luxon/build/global/luxon.min.js\", \"https://cdn.bokeh.org/bokeh/release/bokeh-2.4.3.min.js\", \"https://cdn.bokeh.org/bokeh/release/bokeh-gl-2.4.3.min.js\", \"https://cdn.bokeh.org/bokeh/release/bokeh-widgets-2.4.3.min.js\", \"https://cdn.bokeh.org/bokeh/release/bokeh-tables-2.4.3.min.js\", \"https://cdn.bokeh.org/bokeh/release/bokeh-mathjax-2.4.3.min.js\", \"https://cdn.jsdelivr.net/npm/notyf@3/notyf.min.js\", \"https://unpkg.com/@holoviz/panel@0.13.1/dist/panel.min.js\"];\n  var js_modules = [];\n  var css_urls = [\"https://unpkg.com/tabulator-tables@4.9.3/dist/css/tabulator_simple.min.css\", \"https://cdn.jsdelivr.net/npm/notyf@3/notyf.min.css\", \"https://cdnjs.cloudflare.com/ajax/libs/font-awesome/5.15.1/css/all.min.css\", \"https://unpkg.com/@holoviz/panel@0.13.1/dist/css/alerts.css\", \"https://unpkg.com/@holoviz/panel@0.13.1/dist/css/card.css\", \"https://unpkg.com/@holoviz/panel@0.13.1/dist/css/dataframe.css\", \"https://unpkg.com/@holoviz/panel@0.13.1/dist/css/debugger.css\", \"https://unpkg.com/@holoviz/panel@0.13.1/dist/css/json.css\", \"https://unpkg.com/@holoviz/panel@0.13.1/dist/css/loading.css\", \"https://unpkg.com/@holoviz/panel@0.13.1/dist/css/markdown.css\", \"https://unpkg.com/@holoviz/panel@0.13.1/dist/css/widgets.css\"];\n  var inline_js = [    function(Bokeh) {\n      inject_raw_css(\"\\n    .bk.pn-loading.arcs:before {\\n      background-image: url(\\\"data:image/svg+xml;base64,PHN2ZyB4bWxucz0iaHR0cDovL3d3dy53My5vcmcvMjAwMC9zdmciIHhtbG5zOnhsaW5rPSJodHRwOi8vd3d3LnczLm9yZy8xOTk5L3hsaW5rIiBzdHlsZT0ibWFyZ2luOiBhdXRvOyBiYWNrZ3JvdW5kOiBub25lOyBkaXNwbGF5OiBibG9jazsgc2hhcGUtcmVuZGVyaW5nOiBhdXRvOyIgdmlld0JveD0iMCAwIDEwMCAxMDAiIHByZXNlcnZlQXNwZWN0UmF0aW89InhNaWRZTWlkIj4gIDxjaXJjbGUgY3g9IjUwIiBjeT0iNTAiIHI9IjMyIiBzdHJva2Utd2lkdGg9IjgiIHN0cm9rZT0iI2MzYzNjMyIgc3Ryb2tlLWRhc2hhcnJheT0iNTAuMjY1NDgyNDU3NDM2NjkgNTAuMjY1NDgyNDU3NDM2NjkiIGZpbGw9Im5vbmUiIHN0cm9rZS1saW5lY2FwPSJyb3VuZCI+ICAgIDxhbmltYXRlVHJhbnNmb3JtIGF0dHJpYnV0ZU5hbWU9InRyYW5zZm9ybSIgdHlwZT0icm90YXRlIiByZXBlYXRDb3VudD0iaW5kZWZpbml0ZSIgZHVyPSIxcyIga2V5VGltZXM9IjA7MSIgdmFsdWVzPSIwIDUwIDUwOzM2MCA1MCA1MCI+PC9hbmltYXRlVHJhbnNmb3JtPiAgPC9jaXJjbGU+PC9zdmc+\\\");\\n      background-size: auto calc(min(50%, 400px));\\n    }\\n    \");\n    },    function(Bokeh) {\n      Bokeh.set_log_level(\"info\");\n    },\nfunction(Bokeh) {} // ensure no trailing comma for IE\n  ];\n\n  function run_inline_js() {\n    if ((root.Bokeh !== undefined) || (force === true)) {\n      for (var i = 0; i < inline_js.length; i++) {\n        inline_js[i].call(root, root.Bokeh);\n      }} else if (Date.now() < root._bokeh_timeout) {\n      setTimeout(run_inline_js, 100);\n    } else if (!root._bokeh_failed_load) {\n      console.log(\"Bokeh: BokehJS failed to load within specified timeout.\");\n      root._bokeh_failed_load = true;\n    }\n  }\n\n  if (root._bokeh_is_loading === 0) {\n    console.debug(\"Bokeh: BokehJS loaded, going straight to plotting\");\n    run_inline_js();\n  } else {\n    load_libs(css_urls, js_urls, js_modules, function() {\n      console.debug(\"Bokeh: BokehJS plotting callback run at\", now());\n      run_inline_js();\n    });\n  }\n}(window));",
      "application/vnd.holoviews_load.v0+json": ""
     },
     "metadata": {},
     "output_type": "display_data"
    },
    {
     "data": {
      "application/javascript": "\nif ((window.PyViz === undefined) || (window.PyViz instanceof HTMLElement)) {\n  window.PyViz = {comms: {}, comm_status:{}, kernels:{}, receivers: {}, plot_index: []}\n}\n\n\n    function JupyterCommManager() {\n    }\n\n    JupyterCommManager.prototype.register_target = function(plot_id, comm_id, msg_handler) {\n      if (window.comm_manager || ((window.Jupyter !== undefined) && (Jupyter.notebook.kernel != null))) {\n        var comm_manager = window.comm_manager || Jupyter.notebook.kernel.comm_manager;\n        comm_manager.register_target(comm_id, function(comm) {\n          comm.on_msg(msg_handler);\n        });\n      } else if ((plot_id in window.PyViz.kernels) && (window.PyViz.kernels[plot_id])) {\n        window.PyViz.kernels[plot_id].registerCommTarget(comm_id, function(comm) {\n          comm.onMsg = msg_handler;\n        });\n      } else if (typeof google != 'undefined' && google.colab.kernel != null) {\n        google.colab.kernel.comms.registerTarget(comm_id, (comm) => {\n          var messages = comm.messages[Symbol.asyncIterator]();\n          function processIteratorResult(result) {\n            var message = result.value;\n            console.log(message)\n            var content = {data: message.data, comm_id};\n            var buffers = []\n            for (var buffer of message.buffers || []) {\n              buffers.push(new DataView(buffer))\n            }\n            var metadata = message.metadata || {};\n            var msg = {content, buffers, metadata}\n            msg_handler(msg);\n            return messages.next().then(processIteratorResult);\n          }\n          return messages.next().then(processIteratorResult);\n        })\n      }\n    }\n\n    JupyterCommManager.prototype.get_client_comm = function(plot_id, comm_id, msg_handler) {\n      if (comm_id in window.PyViz.comms) {\n        return window.PyViz.comms[comm_id];\n      } else if (window.comm_manager || ((window.Jupyter !== undefined) && (Jupyter.notebook.kernel != null))) {\n        var comm_manager = window.comm_manager || Jupyter.notebook.kernel.comm_manager;\n        var comm = comm_manager.new_comm(comm_id, {}, {}, {}, comm_id);\n        if (msg_handler) {\n          comm.on_msg(msg_handler);\n        }\n      } else if ((plot_id in window.PyViz.kernels) && (window.PyViz.kernels[plot_id])) {\n        var comm = window.PyViz.kernels[plot_id].connectToComm(comm_id);\n        comm.open();\n        if (msg_handler) {\n          comm.onMsg = msg_handler;\n        }\n      } else if (typeof google != 'undefined' && google.colab.kernel != null) {\n        var comm_promise = google.colab.kernel.comms.open(comm_id)\n        comm_promise.then((comm) => {\n          window.PyViz.comms[comm_id] = comm;\n          if (msg_handler) {\n            var messages = comm.messages[Symbol.asyncIterator]();\n            function processIteratorResult(result) {\n              var message = result.value;\n              var content = {data: message.data};\n              var metadata = message.metadata || {comm_id};\n              var msg = {content, metadata}\n              msg_handler(msg);\n              return messages.next().then(processIteratorResult);\n            }\n            return messages.next().then(processIteratorResult);\n          }\n        }) \n        var sendClosure = (data, metadata, buffers, disposeOnDone) => {\n          return comm_promise.then((comm) => {\n            comm.send(data, metadata, buffers, disposeOnDone);\n          });\n        };\n        var comm = {\n          send: sendClosure\n        };\n      }\n      window.PyViz.comms[comm_id] = comm;\n      return comm;\n    }\n    window.PyViz.comm_manager = new JupyterCommManager();\n    \n\n\nvar JS_MIME_TYPE = 'application/javascript';\nvar HTML_MIME_TYPE = 'text/html';\nvar EXEC_MIME_TYPE = 'application/vnd.holoviews_exec.v0+json';\nvar CLASS_NAME = 'output';\n\n/**\n * Render data to the DOM node\n */\nfunction render(props, node) {\n  var div = document.createElement(\"div\");\n  var script = document.createElement(\"script\");\n  node.appendChild(div);\n  node.appendChild(script);\n}\n\n/**\n * Handle when a new output is added\n */\nfunction handle_add_output(event, handle) {\n  var output_area = handle.output_area;\n  var output = handle.output;\n  if ((output.data == undefined) || (!output.data.hasOwnProperty(EXEC_MIME_TYPE))) {\n    return\n  }\n  var id = output.metadata[EXEC_MIME_TYPE][\"id\"];\n  var toinsert = output_area.element.find(\".\" + CLASS_NAME.split(' ')[0]);\n  if (id !== undefined) {\n    var nchildren = toinsert.length;\n    var html_node = toinsert[nchildren-1].children[0];\n    html_node.innerHTML = output.data[HTML_MIME_TYPE];\n    var scripts = [];\n    var nodelist = html_node.querySelectorAll(\"script\");\n    for (var i in nodelist) {\n      if (nodelist.hasOwnProperty(i)) {\n        scripts.push(nodelist[i])\n      }\n    }\n\n    scripts.forEach( function (oldScript) {\n      var newScript = document.createElement(\"script\");\n      var attrs = [];\n      var nodemap = oldScript.attributes;\n      for (var j in nodemap) {\n        if (nodemap.hasOwnProperty(j)) {\n          attrs.push(nodemap[j])\n        }\n      }\n      attrs.forEach(function(attr) { newScript.setAttribute(attr.name, attr.value) });\n      newScript.appendChild(document.createTextNode(oldScript.innerHTML));\n      oldScript.parentNode.replaceChild(newScript, oldScript);\n    });\n    if (JS_MIME_TYPE in output.data) {\n      toinsert[nchildren-1].children[1].textContent = output.data[JS_MIME_TYPE];\n    }\n    output_area._hv_plot_id = id;\n    if ((window.Bokeh !== undefined) && (id in Bokeh.index)) {\n      window.PyViz.plot_index[id] = Bokeh.index[id];\n    } else {\n      window.PyViz.plot_index[id] = null;\n    }\n  } else if (output.metadata[EXEC_MIME_TYPE][\"server_id\"] !== undefined) {\n    var bk_div = document.createElement(\"div\");\n    bk_div.innerHTML = output.data[HTML_MIME_TYPE];\n    var script_attrs = bk_div.children[0].attributes;\n    for (var i = 0; i < script_attrs.length; i++) {\n      toinsert[toinsert.length - 1].childNodes[1].setAttribute(script_attrs[i].name, script_attrs[i].value);\n    }\n    // store reference to server id on output_area\n    output_area._bokeh_server_id = output.metadata[EXEC_MIME_TYPE][\"server_id\"];\n  }\n}\n\n/**\n * Handle when an output is cleared or removed\n */\nfunction handle_clear_output(event, handle) {\n  var id = handle.cell.output_area._hv_plot_id;\n  var server_id = handle.cell.output_area._bokeh_server_id;\n  if (((id === undefined) || !(id in PyViz.plot_index)) && (server_id !== undefined)) { return; }\n  var comm = window.PyViz.comm_manager.get_client_comm(\"hv-extension-comm\", \"hv-extension-comm\", function () {});\n  if (server_id !== null) {\n    comm.send({event_type: 'server_delete', 'id': server_id});\n    return;\n  } else if (comm !== null) {\n    comm.send({event_type: 'delete', 'id': id});\n  }\n  delete PyViz.plot_index[id];\n  if ((window.Bokeh !== undefined) & (id in window.Bokeh.index)) {\n    var doc = window.Bokeh.index[id].model.document\n    doc.clear();\n    const i = window.Bokeh.documents.indexOf(doc);\n    if (i > -1) {\n      window.Bokeh.documents.splice(i, 1);\n    }\n  }\n}\n\n/**\n * Handle kernel restart event\n */\nfunction handle_kernel_cleanup(event, handle) {\n  delete PyViz.comms[\"hv-extension-comm\"];\n  window.PyViz.plot_index = {}\n}\n\n/**\n * Handle update_display_data messages\n */\nfunction handle_update_output(event, handle) {\n  handle_clear_output(event, {cell: {output_area: handle.output_area}})\n  handle_add_output(event, handle)\n}\n\nfunction register_renderer(events, OutputArea) {\n  function append_mime(data, metadata, element) {\n    // create a DOM node to render to\n    var toinsert = this.create_output_subarea(\n    metadata,\n    CLASS_NAME,\n    EXEC_MIME_TYPE\n    );\n    this.keyboard_manager.register_events(toinsert);\n    // Render to node\n    var props = {data: data, metadata: metadata[EXEC_MIME_TYPE]};\n    render(props, toinsert[0]);\n    element.append(toinsert);\n    return toinsert\n  }\n\n  events.on('output_added.OutputArea', handle_add_output);\n  events.on('output_updated.OutputArea', handle_update_output);\n  events.on('clear_output.CodeCell', handle_clear_output);\n  events.on('delete.Cell', handle_clear_output);\n  events.on('kernel_ready.Kernel', handle_kernel_cleanup);\n\n  OutputArea.prototype.register_mime_type(EXEC_MIME_TYPE, append_mime, {\n    safe: true,\n    index: 0\n  });\n}\n\nif (window.Jupyter !== undefined) {\n  try {\n    var events = require('base/js/events');\n    var OutputArea = require('notebook/js/outputarea').OutputArea;\n    if (OutputArea.prototype.mime_types().indexOf(EXEC_MIME_TYPE) == -1) {\n      register_renderer(events, OutputArea);\n    }\n  } catch(err) {\n  }\n}\n",
      "application/vnd.holoviews_load.v0+json": ""
     },
     "metadata": {},
     "output_type": "display_data"
    },
    {
     "data": {
      "text/html": [
       "<style>.bk-root, .bk-root .bk:before, .bk-root .bk:after {\n",
       "  font-family: var(--jp-ui-font-size1);\n",
       "  font-size: var(--jp-ui-font-size1);\n",
       "  color: var(--jp-ui-font-color1);\n",
       "}\n",
       "</style>"
      ]
     },
     "metadata": {},
     "output_type": "display_data"
    }
   ],
   "source": [
    "import pandas as pd\n",
    "import numpy as np\n",
    "import panel as pn\n",
    "pn.extension('tabulator')\n",
    "import hvplot.pandas\n",
    "import holoviews as hv\n",
    "import time"
   ]
  },
  {
   "cell_type": "code",
   "execution_count": null,
   "id": "7b3a15e0",
   "metadata": {},
   "outputs": [],
   "source": [
    "script_start_time = time.time()"
   ]
  },
  {
   "cell_type": "code",
   "execution_count": 3,
   "id": "97cbf1e9-b3cb-4dbf-a5c4-77d98d13a987",
   "metadata": {
    "execution": {
     "iopub.execute_input": "2023-02-27T08:30:10.773425Z",
     "iopub.status.busy": "2023-02-27T08:30:10.772426Z",
     "iopub.status.idle": "2023-02-27T08:30:10.786424Z",
     "shell.execute_reply": "2023-02-27T08:30:10.786424Z",
     "shell.execute_reply.started": "2023-02-27T08:30:10.773425Z"
    }
   },
   "outputs": [],
   "source": [
    "# df = pd.read_csv(\"https://raw.githubusercontent.com/owid/co2-data/master/owid-co2-data.csv\")"
   ]
  },
  {
   "cell_type": "code",
   "execution_count": 4,
   "id": "58f973fa-e01c-4b6b-ba6a-532a62b2e1e8",
   "metadata": {
    "execution": {
     "iopub.execute_input": "2023-02-27T08:30:10.788424Z",
     "iopub.status.busy": "2023-02-27T08:30:10.787426Z",
     "iopub.status.idle": "2023-02-27T08:30:12.507651Z",
     "shell.execute_reply": "2023-02-27T08:30:12.506536Z",
     "shell.execute_reply.started": "2023-02-27T08:30:10.788424Z"
    },
    "tags": []
   },
   "outputs": [],
   "source": [
    "# cache data to improve dashboard performance\n",
    "if 'data' not in pn.state.cache.keys():\n",
    "\n",
    "    df = pd.read_csv('https://raw.githubusercontent.com/owid/co2-data/master/owid-co2-data.csv')\n",
    "\n",
    "    pn.state.cache['data'] = df.copy()\n",
    "\n",
    "else: \n",
    "\n",
    "    df = pn.state.cache['data']"
   ]
  },
  {
   "cell_type": "markdown",
   "id": "bf78b9c7-2ceb-410a-ba9c-e668d41587db",
   "metadata": {},
   "source": [
    "## (0) Some minor data preprocessing"
   ]
  },
  {
   "cell_type": "code",
   "execution_count": 5,
   "id": "81ded706-a096-4b08-8358-519af91555aa",
   "metadata": {
    "execution": {
     "iopub.execute_input": "2023-02-27T08:30:12.508676Z",
     "iopub.status.busy": "2023-02-27T08:30:12.508676Z",
     "iopub.status.idle": "2023-02-27T08:30:12.553118Z",
     "shell.execute_reply": "2023-02-27T08:30:12.552096Z",
     "shell.execute_reply.started": "2023-02-27T08:30:12.508676Z"
    }
   },
   "outputs": [],
   "source": [
    "# Fill NAs with 0s and create GDP per capita column\n",
    "df = df.fillna(0)\n",
    "df['gdp_per_capita'] = np.where(df['population']!= 0, df['gdp']/ df['population'], 0)"
   ]
  },
  {
   "cell_type": "code",
   "execution_count": 6,
   "id": "3b6d5f4a-f7ef-47fc-a3df-7d60b3cfd97e",
   "metadata": {
    "execution": {
     "iopub.execute_input": "2023-02-27T08:30:12.555094Z",
     "iopub.status.busy": "2023-02-27T08:30:12.555094Z",
     "iopub.status.idle": "2023-02-27T08:30:12.585196Z",
     "shell.execute_reply": "2023-02-27T08:30:12.584194Z",
     "shell.execute_reply.started": "2023-02-27T08:30:12.555094Z"
    },
    "tags": []
   },
   "outputs": [],
   "source": [
    "# Make DataFrame Pipeline Interactive\n",
    "idf = df.interactive()"
   ]
  },
  {
   "cell_type": "markdown",
   "id": "54629e7a-8cb8-4fbe-a616-6481a8e6ff31",
   "metadata": {},
   "source": [
    "## (1) CO2 emission over time by continent"
   ]
  },
  {
   "cell_type": "code",
   "execution_count": 7,
   "id": "b81a227b-996c-4eec-8dd0-4968831b9eb9",
   "metadata": {
    "execution": {
     "iopub.execute_input": "2023-02-27T08:30:12.586196Z",
     "iopub.status.busy": "2023-02-27T08:30:12.586196Z",
     "iopub.status.idle": "2023-02-27T08:30:12.601195Z",
     "shell.execute_reply": "2023-02-27T08:30:12.600193Z",
     "shell.execute_reply.started": "2023-02-27T08:30:12.586196Z"
    }
   },
   "outputs": [],
   "source": [
    "# Define Panel widgets\n",
    "year_slider = pn.widgets.IntSlider(name='Year slider', start=1750, end=2020, step=5, value=1850)\n",
    "#year_slider"
   ]
  },
  {
   "cell_type": "code",
   "execution_count": 8,
   "id": "5131fd1d-f9a9-48b2-9168-769435d830fc",
   "metadata": {
    "execution": {
     "iopub.execute_input": "2023-02-27T08:30:12.602194Z",
     "iopub.status.busy": "2023-02-27T08:30:12.602194Z",
     "iopub.status.idle": "2023-02-27T08:30:12.616211Z",
     "shell.execute_reply": "2023-02-27T08:30:12.616211Z",
     "shell.execute_reply.started": "2023-02-27T08:30:12.602194Z"
    }
   },
   "outputs": [],
   "source": [
    "# Radio buttons for CO2 measures\n",
    "yaxis_co2 = pn.widgets.RadioButtonGroup(\n",
    "    name='Y axis', \n",
    "    options=['co2', 'co2_per_capita',],\n",
    "    button_type='success'\n",
    ")"
   ]
  },
  {
   "cell_type": "code",
   "execution_count": 9,
   "id": "4c357628-af69-4ec4-9e2d-91bcdd21c3c9",
   "metadata": {
    "execution": {
     "iopub.execute_input": "2023-02-27T08:30:12.618193Z",
     "iopub.status.busy": "2023-02-27T08:30:12.617192Z",
     "iopub.status.idle": "2023-02-27T08:30:13.357566Z",
     "shell.execute_reply": "2023-02-27T08:30:13.356733Z",
     "shell.execute_reply.started": "2023-02-27T08:30:12.618193Z"
    }
   },
   "outputs": [],
   "source": [
    "continents = ['World', 'Asia', 'Oceania', 'Europe', 'Africa', 'North America', 'South America', 'Antarctica']\n",
    "\n",
    "co2_pipeline = (\n",
    "    idf[\n",
    "        (idf.year <= year_slider) &\n",
    "        (idf.country.isin(continents))\n",
    "    ]\n",
    "    .groupby(['country', 'year','iso_code'])[yaxis_co2].mean()\n",
    "    .to_frame()\n",
    "    .reset_index()\n",
    "    .sort_values(by='year')  \n",
    "    .reset_index(drop=True)\n",
    ")"
   ]
  },
  {
   "cell_type": "code",
   "execution_count": 10,
   "id": "ad349aaf-1612-4a0d-9303-3a379cf83fad",
   "metadata": {
    "execution": {
     "iopub.execute_input": "2023-02-27T08:30:13.358569Z",
     "iopub.status.busy": "2023-02-27T08:30:13.358569Z",
     "iopub.status.idle": "2023-02-27T08:30:13.373473Z",
     "shell.execute_reply": "2023-02-27T08:30:13.372449Z",
     "shell.execute_reply.started": "2023-02-27T08:30:13.358569Z"
    },
    "tags": []
   },
   "outputs": [],
   "source": [
    "#co2_pipeline"
   ]
  },
  {
   "cell_type": "code",
   "execution_count": 11,
   "id": "30e68a4f-c5ab-478b-8ac7-3bdc055714b6",
   "metadata": {
    "execution": {
     "iopub.execute_input": "2023-02-27T08:30:13.375467Z",
     "iopub.status.busy": "2023-02-27T08:30:13.374470Z",
     "iopub.status.idle": "2023-02-27T08:30:13.404463Z",
     "shell.execute_reply": "2023-02-27T08:30:13.404463Z",
     "shell.execute_reply.started": "2023-02-27T08:30:13.375467Z"
    }
   },
   "outputs": [],
   "source": [
    "df_slice = df[df.country.isin(['World','Asia','Europe'])]\n",
    "idf_slice = df_slice.interactive()"
   ]
  },
  {
   "cell_type": "code",
   "execution_count": 12,
   "id": "d0172b53-0306-4a00-820a-e40f3be2cf7f",
   "metadata": {
    "execution": {
     "iopub.execute_input": "2023-02-27T08:30:13.406463Z",
     "iopub.status.busy": "2023-02-27T08:30:13.405463Z",
     "iopub.status.idle": "2023-02-27T08:30:13.421460Z",
     "shell.execute_reply": "2023-02-27T08:30:13.420477Z",
     "shell.execute_reply.started": "2023-02-27T08:30:13.406463Z"
    }
   },
   "outputs": [],
   "source": [
    "lst_country =list(set(df_slice.country))\n",
    "country_checkbox = pn.widgets.ToggleGroup(name='Country',  options=lst_country, value=[lst_country[0]],button_type='success')\n",
    "#display(country_checkbox)"
   ]
  },
  {
   "cell_type": "code",
   "execution_count": 13,
   "id": "027f4947-4aa1-4979-836d-638b7e58bb13",
   "metadata": {
    "execution": {
     "iopub.execute_input": "2023-02-27T08:30:13.422461Z",
     "iopub.status.busy": "2023-02-27T08:30:13.422461Z",
     "iopub.status.idle": "2023-02-27T08:30:13.436475Z",
     "shell.execute_reply": "2023-02-27T08:30:13.436475Z",
     "shell.execute_reply.started": "2023-02-27T08:30:13.422461Z"
    }
   },
   "outputs": [],
   "source": [
    "if 0:    \n",
    "    co2_slice_pipeline = (\n",
    "        idf[\n",
    "            (idf.year <= 1925) &\n",
    "            (idf.country.isin(country_checkbox))\n",
    "        ]\n",
    "        .groupby(['country', 'year','iso_code'])['co2'].mean()\n",
    "        .to_frame()\n",
    "        .reset_index()\n",
    "        .sort_values(by='year')  \n",
    "        .reset_index(drop=True)\n",
    "    )\n",
    "    co2_slice_pipeline"
   ]
  },
  {
   "cell_type": "code",
   "execution_count": 14,
   "id": "92447534-2a88-44c7-a9ba-06508a7aeaac",
   "metadata": {
    "execution": {
     "iopub.execute_input": "2023-02-27T08:30:13.438458Z",
     "iopub.status.busy": "2023-02-27T08:30:13.438458Z",
     "iopub.status.idle": "2023-02-27T08:30:13.453457Z",
     "shell.execute_reply": "2023-02-27T08:30:13.452473Z",
     "shell.execute_reply.started": "2023-02-27T08:30:13.438458Z"
    }
   },
   "outputs": [],
   "source": [
    "if 0:\n",
    "    co2_slice_plot = co2_slice_pipeline.hvplot(x = 'year', by=['iso_code','country'], y=['co2'],line_width=2, title=\"CO2 emission by continent\")\n",
    "    co2_slice_plot"
   ]
  },
  {
   "cell_type": "code",
   "execution_count": 15,
   "id": "96b7ed90-92db-41b2-a2ab-ea80aa34d2db",
   "metadata": {
    "execution": {
     "iopub.execute_input": "2023-02-27T08:30:13.456455Z",
     "iopub.status.busy": "2023-02-27T08:30:13.456455Z",
     "iopub.status.idle": "2023-02-27T08:30:13.847819Z",
     "shell.execute_reply": "2023-02-27T08:30:13.846876Z",
     "shell.execute_reply.started": "2023-02-27T08:30:13.456455Z"
    },
    "tags": []
   },
   "outputs": [
    {
     "data": {},
     "metadata": {},
     "output_type": "display_data"
    },
    {
     "data": {},
     "metadata": {},
     "output_type": "display_data"
    },
    {
     "data": {
      "application/vnd.holoviews_exec.v0+json": "",
      "text/html": [
       "<div id='1002'>\n",
       "  <div class=\"bk-root\" id=\"b229123e-f0f6-40a1-9962-b1c8e4cdea78\" data-root-id=\"1002\"></div>\n",
       "</div>\n",
       "<script type=\"application/javascript\">(function(root) {\n",
       "  function embed_document(root) {\n",
       "    var docs_json = {\"bdceb7f5-afe0-4633-b699-354f13faa090\":{\"defs\":[{\"extends\":null,\"module\":null,\"name\":\"ReactiveHTML1\",\"overrides\":[],\"properties\":[]},{\"extends\":null,\"module\":null,\"name\":\"FlexBox1\",\"overrides\":[],\"properties\":[{\"default\":\"flex-start\",\"kind\":null,\"name\":\"align_content\"},{\"default\":\"flex-start\",\"kind\":null,\"name\":\"align_items\"},{\"default\":\"row\",\"kind\":null,\"name\":\"flex_direction\"},{\"default\":\"wrap\",\"kind\":null,\"name\":\"flex_wrap\"},{\"default\":\"flex-start\",\"kind\":null,\"name\":\"justify_content\"}]},{\"extends\":null,\"module\":null,\"name\":\"GridStack1\",\"overrides\":[],\"properties\":[{\"default\":\"warn\",\"kind\":null,\"name\":\"mode\"},{\"default\":null,\"kind\":null,\"name\":\"ncols\"},{\"default\":null,\"kind\":null,\"name\":\"nrows\"},{\"default\":true,\"kind\":null,\"name\":\"allow_resize\"},{\"default\":true,\"kind\":null,\"name\":\"allow_drag\"},{\"default\":[],\"kind\":null,\"name\":\"state\"}]},{\"extends\":null,\"module\":null,\"name\":\"click1\",\"overrides\":[],\"properties\":[{\"default\":\"\",\"kind\":null,\"name\":\"terminal_output\"},{\"default\":\"\",\"kind\":null,\"name\":\"debug_name\"},{\"default\":0,\"kind\":null,\"name\":\"clears\"}]},{\"extends\":null,\"module\":null,\"name\":\"NotificationAreaBase1\",\"overrides\":[],\"properties\":[{\"default\":\"bottom-right\",\"kind\":null,\"name\":\"position\"},{\"default\":0,\"kind\":null,\"name\":\"_clear\"}]},{\"extends\":null,\"module\":null,\"name\":\"NotificationArea1\",\"overrides\":[],\"properties\":[{\"default\":[],\"kind\":null,\"name\":\"notifications\"},{\"default\":\"bottom-right\",\"kind\":null,\"name\":\"position\"},{\"default\":0,\"kind\":null,\"name\":\"_clear\"},{\"default\":[{\"background\":\"#ffc107\",\"icon\":{\"className\":\"fas fa-exclamation-triangle\",\"color\":\"white\",\"tagName\":\"i\"},\"type\":\"warning\"},{\"background\":\"#007bff\",\"icon\":{\"className\":\"fas fa-info-circle\",\"color\":\"white\",\"tagName\":\"i\"},\"type\":\"info\"}],\"kind\":null,\"name\":\"types\"}]},{\"extends\":null,\"module\":null,\"name\":\"Notification\",\"overrides\":[],\"properties\":[{\"default\":null,\"kind\":null,\"name\":\"background\"},{\"default\":3000,\"kind\":null,\"name\":\"duration\"},{\"default\":null,\"kind\":null,\"name\":\"icon\"},{\"default\":\"\",\"kind\":null,\"name\":\"message\"},{\"default\":null,\"kind\":null,\"name\":\"notification_type\"},{\"default\":false,\"kind\":null,\"name\":\"_destroyed\"}]},{\"extends\":null,\"module\":null,\"name\":\"TemplateActions1\",\"overrides\":[],\"properties\":[{\"default\":0,\"kind\":null,\"name\":\"open_modal\"},{\"default\":0,\"kind\":null,\"name\":\"close_modal\"}]},{\"extends\":null,\"module\":null,\"name\":\"MaterialTemplateActions1\",\"overrides\":[],\"properties\":[{\"default\":0,\"kind\":null,\"name\":\"open_modal\"},{\"default\":0,\"kind\":null,\"name\":\"close_modal\"}]}],\"roots\":{\"references\":[{\"attributes\":{\"line_alpha\":0.1,\"line_color\":\"#17becf\",\"line_width\":2,\"x\":{\"field\":\"year\"},\"y\":{\"field\":\"co2\"}},\"id\":\"1179\",\"type\":\"Line\"},{\"attributes\":{\"bottom_units\":\"screen\",\"coordinates\":null,\"fill_alpha\":0.5,\"fill_color\":\"lightgrey\",\"group\":null,\"left_units\":\"screen\",\"level\":\"overlay\",\"line_alpha\":1.0,\"line_color\":\"black\",\"line_dash\":[4,4],\"line_width\":2,\"right_units\":\"screen\",\"syncable\":false,\"top_units\":\"screen\"},\"id\":\"1040\",\"type\":\"BoxAnnotation\"},{\"attributes\":{\"line_color\":\"#17becf\",\"line_width\":2,\"x\":{\"field\":\"year\"},\"y\":{\"field\":\"co2\"}},\"id\":\"1204\",\"type\":\"Line\"},{\"attributes\":{\"coordinates\":null,\"data_source\":{\"id\":\"1175\"},\"glyph\":{\"id\":\"1178\"},\"group\":null,\"hover_glyph\":null,\"muted_glyph\":{\"id\":\"1180\"},\"nonselection_glyph\":{\"id\":\"1179\"},\"selection_glyph\":{\"id\":\"1204\"},\"view\":{\"id\":\"1182\"}},\"id\":\"1181\",\"type\":\"GlyphRenderer\"},{\"attributes\":{\"source\":{\"id\":\"1175\"}},\"id\":\"1182\",\"type\":\"CDSView\"},{\"attributes\":{\"line_alpha\":0.2,\"line_color\":\"#17becf\",\"line_width\":2,\"x\":{\"field\":\"year\"},\"y\":{\"field\":\"co2\"}},\"id\":\"1180\",\"type\":\"Line\"},{\"attributes\":{\"label\":{\"value\":\"0, South America\"},\"renderers\":[{\"id\":\"1181\"}]},\"id\":\"1203\",\"type\":\"LegendItem\"},{\"attributes\":{\"line_color\":\"#9467bd\",\"line_width\":2,\"x\":{\"field\":\"year\"},\"y\":{\"field\":\"co2\"}},\"id\":\"1236\",\"type\":\"Line\"},{\"attributes\":{},\"id\":\"1142\",\"type\":\"UnionRenderers\"},{\"attributes\":{\"line_color\":\"#fc4f30\",\"line_width\":2,\"x\":{\"field\":\"year\"},\"y\":{\"field\":\"co2\"}},\"id\":\"1096\",\"type\":\"Line\"},{\"attributes\":{},\"id\":\"1200\",\"type\":\"UnionRenderers\"},{\"attributes\":{\"label\":{\"value\":\"0, Europe\"},\"renderers\":[{\"id\":\"1103\"}]},\"id\":\"1119\",\"type\":\"LegendItem\"},{\"attributes\":{\"data\":{\"co2\":{\"__ndarray__\":\"AAAAAAAAAAAAAAAAAAAAAAAAAAAAAAAAAAAAAAAAAAAAAAAAAAAAAAAAAAAAAAAAAAAAAAAAAAAAAAAAAAAAAAAAAAAAAAAAAAAAAAAAAAAAAAAAAAAAAAAAAAAAAAAAAAAAAAAAAAAAAAAAAAAAAAAAAAAAAAAAAAAAAAAAAAAAAAAAAAAAAAAAAAAAAAAAAAAAAAAAAAAAAAAAAAAAAAAAAAAAAAAAAAAAAAAAAAAAAAAAAAAAAAAAAAAAAAAAAAAAAAAAAAAAAAAAAAAAAAAAAAAAAAAAAAAAAAAAAAAAAAAAAAAAAAAAAAAAAAAAAAAAAAAAAAAAAAAAAAAAAAAAAAAAAAAAAAAAAAAAAAAAAAAAAAAAAAAAAAAAAAAAAAAAAAAAAAAAAAAAAAAAAAAAAAAAAAAAAAAAAAAAAAAAAAAAAAAAAAAAAAAAAAAAAAAAAAAAAAAAAAAAAAAAAAAAAAAAAAAAAAAAAAAAAAAAAAAAAAAAAAAAAAAAAAAAAAAAAAAAAAAAAAAAAAAAAAAAAAAAAAAAAAAAAAAAAAAAAAAAAAAAAAAAAAAAAAAAAAAAAAAAAAAAAAAAAAAAAAAAAAAAAAAAAAAAAAAAAAAAAAAAAAAAAAAAAAAAAAAAAAAAAAAAAAAAAAAAAAAAAAAAAAAAAAAAAAAAAAAAAAAAAAAAAAAAAAAAAAAAAAAAAAAAAAAAAAAAAAAAAAAAAAAAAAAAAAAAAAAAAAAAAAAAAAAAAAAAAAAAAAAAAAAAAAAAAAAAAAAAAAAAAAAAAAAAAAAAAAAAAAAAAAAAAAAAAAAAAAAAAAAAAAAAAAAAAAAAAAAAAAAAAAAAAAAAAAAAAAAAAAAAAAAAAAAAAAAAAAAAAAAAAAAAAAAAAAAAAAAAAAAAAAAAAAAAAAAAAAAAAAAAAAAAAAAAAAAAAAAAAAAAAAAAAAAAAAAAAAAAAAAAAAAAAAAAAAAAAAAAAAAAAAAAAAAAAAAAAAAAAAAAAAAAAAAAAAAAAAAAAAAAAAAAAAAAAAAAAAAAAAAAAAAAAAAAAAAAAAAAAAAAAAAAAAAAAAAAAA==\",\"dtype\":\"float64\",\"order\":\"little\",\"shape\":[101]},\"country\":[\"Africa\",\"Africa\",\"Africa\",\"Africa\",\"Africa\",\"Africa\",\"Africa\",\"Africa\",\"Africa\",\"Africa\",\"Africa\",\"Africa\",\"Africa\",\"Africa\",\"Africa\",\"Africa\",\"Africa\",\"Africa\",\"Africa\",\"Africa\",\"Africa\",\"Africa\",\"Africa\",\"Africa\",\"Africa\",\"Africa\",\"Africa\",\"Africa\",\"Africa\",\"Africa\",\"Africa\",\"Africa\",\"Africa\",\"Africa\",\"Africa\",\"Africa\",\"Africa\",\"Africa\",\"Africa\",\"Africa\",\"Africa\",\"Africa\",\"Africa\",\"Africa\",\"Africa\",\"Africa\",\"Africa\",\"Africa\",\"Africa\",\"Africa\",\"Africa\",\"Africa\",\"Africa\",\"Africa\",\"Africa\",\"Africa\",\"Africa\",\"Africa\",\"Africa\",\"Africa\",\"Africa\",\"Africa\",\"Africa\",\"Africa\",\"Africa\",\"Africa\",\"Africa\",\"Africa\",\"Africa\",\"Africa\",\"Africa\",\"Africa\",\"Africa\",\"Africa\",\"Africa\",\"Africa\",\"Africa\",\"Africa\",\"Africa\",\"Africa\",\"Africa\",\"Africa\",\"Africa\",\"Africa\",\"Africa\",\"Africa\",\"Africa\",\"Africa\",\"Africa\",\"Africa\",\"Africa\",\"Africa\",\"Africa\",\"Africa\",\"Africa\",\"Africa\",\"Africa\",\"Africa\",\"Africa\",\"Africa\",\"Africa\"],\"iso_code\":[0,0,0,0,0,0,0,0,0,0,0,0,0,0,0,0,0,0,0,0,0,0,0,0,0,0,0,0,0,0,0,0,0,0,0,0,0,0,0,0,0,0,0,0,0,0,0,0,0,0,0,0,0,0,0,0,0,0,0,0,0,0,0,0,0,0,0,0,0,0,0,0,0,0,0,0,0,0,0,0,0,0,0,0,0,0,0,0,0,0,0,0,0,0,0,0,0,0,0,0,0],\"year\":[1750,1751,1752,1753,1754,1755,1756,1757,1758,1759,1760,1761,1762,1763,1764,1765,1766,1767,1768,1769,1770,1771,1772,1773,1774,1775,1776,1777,1778,1779,1780,1781,1782,1783,1784,1785,1786,1787,1788,1789,1790,1791,1792,1793,1794,1795,1796,1797,1798,1799,1800,1801,1802,1803,1804,1805,1806,1807,1808,1809,1810,1811,1812,1813,1814,1815,1816,1817,1818,1819,1820,1821,1822,1823,1824,1825,1826,1827,1828,1829,1830,1831,1832,1833,1834,1835,1836,1837,1838,1839,1840,1841,1842,1843,1844,1845,1846,1847,1848,1849,1850]},\"selected\":{\"id\":\"1055\"},\"selection_policy\":{\"id\":\"1069\"}},\"id\":\"1054\",\"type\":\"ColumnDataSource\"},{\"attributes\":{\"source\":{\"id\":\"1097\"}},\"id\":\"1104\",\"type\":\"CDSView\"},{\"attributes\":{},\"id\":\"1176\",\"type\":\"Selection\"},{\"attributes\":{\"line_alpha\":0.2,\"line_color\":\"#e5ae38\",\"line_width\":2,\"x\":{\"field\":\"year\"},\"y\":{\"field\":\"co2\"}},\"id\":\"1102\",\"type\":\"Line\"},{\"attributes\":{},\"id\":\"1049\",\"type\":\"BasicTickFormatter\"},{\"attributes\":{\"active\":0,\"button_type\":\"success\",\"labels\":[\"co2\",\"co2_per_capita\"],\"margin\":[5,10,5,10]},\"id\":\"1007\",\"type\":\"RadioButtonGroup\"},{\"attributes\":{\"coordinates\":null,\"data_source\":{\"id\":\"1097\"},\"glyph\":{\"id\":\"1100\"},\"group\":null,\"hover_glyph\":null,\"muted_glyph\":{\"id\":\"1102\"},\"nonselection_glyph\":{\"id\":\"1101\"},\"selection_glyph\":{\"id\":\"1120\"},\"view\":{\"id\":\"1104\"}},\"id\":\"1103\",\"type\":\"GlyphRenderer\"},{\"attributes\":{},\"id\":\"1050\",\"type\":\"AllLabels\"},{\"attributes\":{\"data\":{\"co2\":{\"__ndarray__\":\"AAAAAAAAAAAAAAAAAAAAAAAAAAAAAAAAAAAAAAAAAAAAAAAAAAAAAAAAAAAAAAAAAAAAAAAAAAAAAAAAAAAAAAAAAAAAAAAAAAAAAAAAAAAAAAAAAAAAAAAAAAAAAAAAAAAAAAAAAAAAAAAAAAAAAAAAAAAAAAAAAAAAAAAAAAAAAAAAAAAAAAAAAAAAAAAAAAAAAAAAAAAAAAAAAAAAAAAAAAAAAAAAAAAAAAAAAAAAAAAAAAAAAAAAAAAAAAAAAAAAAAAAAAAAAAAAAAAAAAAAAAAAAAAAAAAAAAAAAAAAAAAAAAAAAAAAAAAAAAAAAAAAAAAAAAAAAAAAAAAAAAAAAAAAAAAAAAAAAAAAAAAAAAAAAAAAAAAAAAAAAAAAAAAAAAAAAAAAAAAAAAAAAAAAAAAAAAAAAAAAAAAAAAAAAAAAAAAAAAAAAAAAAAAAAAAAAAAAAAAAAAAAAAAAAAAAAAAAAAAAAAAAAAAAAAAAAAAAAAAAAAAAAAAAAAAAAAAAAAAAAAAAAAAAAAAAAAAAAAAAAAAAAAAAAAAAAAAAAAAAAAAAAAAAAAAAAAAAAAAAAAAAAAAAAAAAAAAAAAAAAAAAAAAAAAAAAAAAAAAAAAAAAAAAAAAAAAAAAAAAAAAAAAAAAAAAAAAAAAAAAAAAAAAAAAAAAAAAAAAAAAAAAAAAAAAAAAAAAAAAAAAAAAAAAAAAAAAAAAAAAAAAAAAAAAAAAAAAAAAAAAAAAAAAAAAAAAAAAAAAAAAAAAAAAAAAAAAAAAAAAAAAAAAAAAAAAAAAAAAAAAAAAAAAAAAAAAAAAAAAAAAAAAAAAAAAAAAAAAAAAAAAAAAAAAAAAAAAAAAAAAAAAAAAAAAAAAAAAAAAAAAAAAAAAAAAAAAAAAAAAAAAAAAAAAAAAAAAAAAAAAAAAAAAAAAAAAAAAAAAAAAAAAAAAAAAAAAAAAAAAAAAAAAAAAAAAAAAAAAAAAAAAAAAAAAAAAAAAAAAAAAAAAAAAAAAAAAAAAAAAAAAAAAAAAAAAAAAAAAAAAAAAAAAAAAAAAAAAAAAAAAAAAAAAAAAAAAAAA==\",\"dtype\":\"float64\",\"order\":\"little\",\"shape\":[101]},\"country\":[\"Oceania\",\"Oceania\",\"Oceania\",\"Oceania\",\"Oceania\",\"Oceania\",\"Oceania\",\"Oceania\",\"Oceania\",\"Oceania\",\"Oceania\",\"Oceania\",\"Oceania\",\"Oceania\",\"Oceania\",\"Oceania\",\"Oceania\",\"Oceania\",\"Oceania\",\"Oceania\",\"Oceania\",\"Oceania\",\"Oceania\",\"Oceania\",\"Oceania\",\"Oceania\",\"Oceania\",\"Oceania\",\"Oceania\",\"Oceania\",\"Oceania\",\"Oceania\",\"Oceania\",\"Oceania\",\"Oceania\",\"Oceania\",\"Oceania\",\"Oceania\",\"Oceania\",\"Oceania\",\"Oceania\",\"Oceania\",\"Oceania\",\"Oceania\",\"Oceania\",\"Oceania\",\"Oceania\",\"Oceania\",\"Oceania\",\"Oceania\",\"Oceania\",\"Oceania\",\"Oceania\",\"Oceania\",\"Oceania\",\"Oceania\",\"Oceania\",\"Oceania\",\"Oceania\",\"Oceania\",\"Oceania\",\"Oceania\",\"Oceania\",\"Oceania\",\"Oceania\",\"Oceania\",\"Oceania\",\"Oceania\",\"Oceania\",\"Oceania\",\"Oceania\",\"Oceania\",\"Oceania\",\"Oceania\",\"Oceania\",\"Oceania\",\"Oceania\",\"Oceania\",\"Oceania\",\"Oceania\",\"Oceania\",\"Oceania\",\"Oceania\",\"Oceania\",\"Oceania\",\"Oceania\",\"Oceania\",\"Oceania\",\"Oceania\",\"Oceania\",\"Oceania\",\"Oceania\",\"Oceania\",\"Oceania\",\"Oceania\",\"Oceania\",\"Oceania\",\"Oceania\",\"Oceania\",\"Oceania\",\"Oceania\"],\"iso_code\":[0,0,0,0,0,0,0,0,0,0,0,0,0,0,0,0,0,0,0,0,0,0,0,0,0,0,0,0,0,0,0,0,0,0,0,0,0,0,0,0,0,0,0,0,0,0,0,0,0,0,0,0,0,0,0,0,0,0,0,0,0,0,0,0,0,0,0,0,0,0,0,0,0,0,0,0,0,0,0,0,0,0,0,0,0,0,0,0,0,0,0,0,0,0,0,0,0,0,0,0,0],\"year\":[1750,1751,1752,1753,1754,1755,1756,1757,1758,1759,1760,1761,1762,1763,1764,1765,1766,1767,1768,1769,1770,1771,1772,1773,1774,1775,1776,1777,1778,1779,1780,1781,1782,1783,1784,1785,1786,1787,1788,1789,1790,1791,1792,1793,1794,1795,1796,1797,1798,1799,1800,1801,1802,1803,1804,1805,1806,1807,1808,1809,1810,1811,1812,1813,1814,1815,1816,1817,1818,1819,1820,1821,1822,1823,1824,1825,1826,1827,1828,1829,1830,1831,1832,1833,1834,1835,1836,1837,1838,1839,1840,1841,1842,1843,1844,1845,1846,1847,1848,1849,1850]},\"selected\":{\"id\":\"1148\"},\"selection_policy\":{\"id\":\"1170\"}},\"id\":\"1147\",\"type\":\"ColumnDataSource\"},{\"attributes\":{},\"id\":\"1098\",\"type\":\"Selection\"},{\"attributes\":{\"line_color\":\"#6d904f\",\"line_width\":2,\"x\":{\"field\":\"year\"},\"y\":{\"field\":\"co2\"}},\"id\":\"1146\",\"type\":\"Line\"},{\"attributes\":{\"line_alpha\":0.1,\"line_color\":\"#6d904f\",\"line_width\":2,\"x\":{\"field\":\"year\"},\"y\":{\"field\":\"co2\"}},\"id\":\"1125\",\"type\":\"Line\"},{\"attributes\":{\"line_alpha\":0.2,\"line_color\":\"#6d904f\",\"line_width\":2,\"x\":{\"field\":\"year\"},\"y\":{\"field\":\"co2\"}},\"id\":\"1126\",\"type\":\"Line\"},{\"attributes\":{\"line_alpha\":0.2,\"line_color\":\"#8b8b8b\",\"line_width\":2,\"x\":{\"field\":\"year\"},\"y\":{\"field\":\"co2\"}},\"id\":\"1152\",\"type\":\"Line\"},{\"attributes\":{},\"id\":\"1052\",\"type\":\"BasicTickFormatter\"},{\"attributes\":{},\"id\":\"1053\",\"type\":\"AllLabels\"},{\"attributes\":{},\"id\":\"1116\",\"type\":\"UnionRenderers\"},{\"attributes\":{\"line_alpha\":0.1,\"line_color\":\"#8b8b8b\",\"line_width\":2,\"x\":{\"field\":\"year\"},\"y\":{\"field\":\"co2\"}},\"id\":\"1151\",\"type\":\"Line\"},{\"attributes\":{\"end\":1850.0,\"reset_end\":1850.0,\"reset_start\":1750.0,\"start\":1750.0,\"tags\":[[[\"year\",\"year\",null]]]},\"id\":\"1009\",\"type\":\"Range1d\"},{\"attributes\":{},\"id\":\"1023\",\"type\":\"LinearScale\"},{\"attributes\":{\"callback\":null,\"renderers\":[{\"id\":\"1060\"},{\"id\":\"1081\"},{\"id\":\"1103\"},{\"id\":\"1127\"},{\"id\":\"1153\"},{\"id\":\"1181\"},{\"id\":\"1211\"}],\"tags\":[\"hv_created\"],\"tooltips\":[[\"iso_code\",\"@{iso_code}\"],[\"country\",\"@{country}\"],[\"year\",\"@{year}\"],[\"co2\",\"@{co2}\"]]},\"id\":\"1011\",\"type\":\"HoverTool\"},{\"attributes\":{\"line_color\":\"#8b8b8b\",\"line_width\":2,\"x\":{\"field\":\"year\"},\"y\":{\"field\":\"co2\"}},\"id\":\"1150\",\"type\":\"Line\"},{\"attributes\":{\"coordinates\":null,\"data_source\":{\"id\":\"1147\"},\"glyph\":{\"id\":\"1150\"},\"group\":null,\"hover_glyph\":null,\"muted_glyph\":{\"id\":\"1152\"},\"nonselection_glyph\":{\"id\":\"1151\"},\"selection_glyph\":{\"id\":\"1174\"},\"view\":{\"id\":\"1154\"}},\"id\":\"1153\",\"type\":\"GlyphRenderer\"},{\"attributes\":{},\"id\":\"1069\",\"type\":\"UnionRenderers\"},{\"attributes\":{\"line_alpha\":0.2,\"line_color\":\"#fc4f30\",\"line_width\":2,\"x\":{\"field\":\"year\"},\"y\":{\"field\":\"co2\"}},\"id\":\"1080\",\"type\":\"Line\"},{\"attributes\":{\"below\":[{\"id\":\"1027\"}],\"center\":[{\"id\":\"1030\"},{\"id\":\"1034\"}],\"height\":300,\"left\":[{\"id\":\"1031\"}],\"margin\":[5,5,5,5],\"min_border_bottom\":10,\"min_border_left\":10,\"min_border_right\":10,\"min_border_top\":10,\"renderers\":[{\"id\":\"1060\"},{\"id\":\"1081\"},{\"id\":\"1103\"},{\"id\":\"1127\"},{\"id\":\"1153\"},{\"id\":\"1181\"},{\"id\":\"1211\"}],\"right\":[{\"id\":\"1072\"}],\"sizing_mode\":\"fixed\",\"title\":{\"id\":\"1019\"},\"toolbar\":{\"id\":\"1041\"},\"width\":700,\"x_range\":{\"id\":\"1009\"},\"x_scale\":{\"id\":\"1023\"},\"y_range\":{\"id\":\"1010\"},\"y_scale\":{\"id\":\"1025\"}},\"id\":\"1018\",\"subtype\":\"Figure\",\"type\":\"Plot\"},{\"attributes\":{\"line_color\":\"#fc4f30\",\"line_width\":2,\"x\":{\"field\":\"year\"},\"y\":{\"field\":\"co2\"}},\"id\":\"1078\",\"type\":\"Line\"},{\"attributes\":{\"line_color\":\"#30a2da\",\"line_width\":2,\"x\":{\"field\":\"year\"},\"y\":{\"field\":\"co2\"}},\"id\":\"1074\",\"type\":\"Line\"},{\"attributes\":{\"data\":{\"co2\":{\"__ndarray__\":\"AAAAAAAAAAAAAAAAAAAAAAAAAAAAAAAAAAAAAAAAAAAAAAAAAAAAAAAAAAAAAAAAAAAAAAAAAAAAAAAAAAAAAAAAAAAAAAAAAAAAAAAAAAAAAAAAAAAAAAAAAAAAAAAAAAAAAAAAAAAAAAAAAAAAAAAAAAAAAAAAAAAAAAAAAAAAAAAAAAAAAAAAAAAAAAAAAAAAAAAAAAAAAAAAAAAAAAAAAAAAAAAAAAAAAAAAAAAAAAAAAAAAAAAAAAAAAAAAAAAAAAAAAAAAAAAAAAAAAAAAAAAAAAAAAAAAAAAAAAAAAAAAAAAAAAAAAAAAAAAAAAAAAAAAAAAAAAAAAAAAAAAAAAAAAAAAAAAAAAAAAAAAAAAAAAAAAAAAAAAAAAAAAAAAAAAAAAAAAAAAAAAAAAAAAAAAAAAAAAAAAAAAAAAAAAAAAAAAAAAAAAAAAAAAAAAAAAAAAAAAAAAAAAAAAAAAAAAAAAAAAAAAAAAAAAAAAAAAAAAAAAAAAAAAAAAAAAAAAAAAAAAAAAAAAAAAAAAAAAAAAAAAAAAAAAAAAAAAAAAAAAAAAAAAAAAAAAAAAAAAAAAAAAAAAAAAAAAAAAAAAAAAAAAAAAAAAAAAAAAAAAAAAAAAAAAAAAAAAAAAAAAAAAAAAAAAAAAAAAAAAAAAAAAAAAAAAAAAAAAAAAAAAAAAAAAAAAAAAAAAAAAAAAAAAAAAAAAAAAAAAAAAAAAAAAAAAAAAAAAAAAAAAAAAAAAAAAAAAAAAAAAAAAAAAAAAAAAAAAAAAAAAAAAAAAAAAAAAAAAAAAAAAAAAAAAAAAAAAAAAAAAAAAAAAAAAAAAAAAAAAAAAAAAAAAAAAAAAAAAAAAAAAAAAAAAAAAAAAAAAAAAAAAAAAAAAAAAAAAAAAAAAAAAAAAAAAAAAAAAAAAAAAAAAAAAAAAAAAAAAAAAAAAAAAAAAAAAAAAAAAAAAAAAAAAAAAAAAAAAAAAAAAAAAAAAAAAAAAAAAAAAAAAAAAAAAAAAAAAAAAAAAAAAAAAAAAAAAAAAAAAAAAAAAAAAAAAAAAAAAAAAAAAAAAAAAAAAAAA==\",\"dtype\":\"float64\",\"order\":\"little\",\"shape\":[101]},\"country\":[\"South America\",\"South America\",\"South America\",\"South America\",\"South America\",\"South America\",\"South America\",\"South America\",\"South America\",\"South America\",\"South America\",\"South America\",\"South America\",\"South America\",\"South America\",\"South America\",\"South America\",\"South America\",\"South America\",\"South America\",\"South America\",\"South America\",\"South America\",\"South America\",\"South America\",\"South America\",\"South America\",\"South America\",\"South America\",\"South America\",\"South America\",\"South America\",\"South America\",\"South America\",\"South America\",\"South America\",\"South America\",\"South America\",\"South America\",\"South America\",\"South America\",\"South America\",\"South America\",\"South America\",\"South America\",\"South America\",\"South America\",\"South America\",\"South America\",\"South America\",\"South America\",\"South America\",\"South America\",\"South America\",\"South America\",\"South America\",\"South America\",\"South America\",\"South America\",\"South America\",\"South America\",\"South America\",\"South America\",\"South America\",\"South America\",\"South America\",\"South America\",\"South America\",\"South America\",\"South America\",\"South America\",\"South America\",\"South America\",\"South America\",\"South America\",\"South America\",\"South America\",\"South America\",\"South America\",\"South America\",\"South America\",\"South America\",\"South America\",\"South America\",\"South America\",\"South America\",\"South America\",\"South America\",\"South America\",\"South America\",\"South America\",\"South America\",\"South America\",\"South America\",\"South America\",\"South America\",\"South America\",\"South America\",\"South America\",\"South America\",\"South America\"],\"iso_code\":[0,0,0,0,0,0,0,0,0,0,0,0,0,0,0,0,0,0,0,0,0,0,0,0,0,0,0,0,0,0,0,0,0,0,0,0,0,0,0,0,0,0,0,0,0,0,0,0,0,0,0,0,0,0,0,0,0,0,0,0,0,0,0,0,0,0,0,0,0,0,0,0,0,0,0,0,0,0,0,0,0,0,0,0,0,0,0,0,0,0,0,0,0,0,0,0,0,0,0,0,0],\"year\":[1750,1751,1752,1753,1754,1755,1756,1757,1758,1759,1760,1761,1762,1763,1764,1765,1766,1767,1768,1769,1770,1771,1772,1773,1774,1775,1776,1777,1778,1779,1780,1781,1782,1783,1784,1785,1786,1787,1788,1789,1790,1791,1792,1793,1794,1795,1796,1797,1798,1799,1800,1801,1802,1803,1804,1805,1806,1807,1808,1809,1810,1811,1812,1813,1814,1815,1816,1817,1818,1819,1820,1821,1822,1823,1824,1825,1826,1827,1828,1829,1830,1831,1832,1833,1834,1835,1836,1837,1838,1839,1840,1841,1842,1843,1844,1845,1846,1847,1848,1849,1850]},\"selected\":{\"id\":\"1176\"},\"selection_policy\":{\"id\":\"1200\"}},\"id\":\"1175\",\"type\":\"ColumnDataSource\"},{\"attributes\":{},\"id\":\"1148\",\"type\":\"Selection\"},{\"attributes\":{\"children\":[{\"id\":\"1003\"}],\"margin\":[0,0,0,0],\"name\":\"Row04176\"},\"id\":\"1002\",\"type\":\"Row\"},{\"attributes\":{\"line_color\":\"#17becf\",\"line_width\":2,\"x\":{\"field\":\"year\"},\"y\":{\"field\":\"co2\"}},\"id\":\"1178\",\"type\":\"Line\"},{\"attributes\":{\"data\":{\"co2\":{\"__ndarray__\":\"wcqhRbazIkDByqFFtrMiQGiR7Xw/tSJAaJHtfD+1IkCe76fGS7ciQNNNYhBYuSJAUI2XbhIDJECF61G4HgUkQLpJDAIrByRAYhBYObQIJEBiEFg5tAgkQKabxCCw8iVATmIQWDn0JUCDwMqhRfYlQLgehetR+CVAYOXQItv5JUCF61G4HoUoQC2yne+nhihAYhBYObSIKECYbhKDwIooQD81XrpJjChA001iEFg5K0B7FK5H4TorQLByaJHtPCtA5dAi2/k+K0CNl24Sg0ArQG3n+6nxEi5AokW28/0ULkBKDAIrhxYuQH9qvHSTGC5AXI/C9SgcLkArhxbZztcwQEa28/3U2DBAtMh2vp/aMEDP91PjpdswQD0K16Nw3TBA2c73U+MlM0BI4XoUriczQGIQWDm0KDNA0SLb+X4qM0AGgZVDiywzQNEi2/l+ajVAMQisHFrkNUDwp8ZLN+k1QFTjpZvE4DVA3SQGgZXjNUCmm8QgsPI2QJ7vp8ZLFzhAnu+nxksXOUDNzMzMzGw6QPYoXI/C1TtAqvHSTWKwO0AfhetRuD5CQOOlm8QgMD9ABoGVQ4v8QECamZmZmYlAQJhuEoPAWkFAyXa+nxo/QkASg8DKoVVBQIGVQ4tsV0FAmG4Sg8B6QkA3iUFg5ZBDQMP1KFyPQkRADAIrhxZZREDVeOkmMchEQBsv3SQGcUVAObTIdr5/R0CYbhKDwFpIQMuhRbbzbUhAnu+nxkuXSED8qfHSTfJIQFpkO99PTUlAI9v5fmpMSkDD9Shcj9JLQFTjpZvEwExA5dAi2/nOTUCwcmiR7QxOQARWDi2yHVBAw/UoXI9CUECgGi/dJCZQQGDl0CLbwVVAjZduEoOQVEBaZDvfT4VUQLbz/dR40VRAZmZmZmZGVUDy0k1iEIhVQKabxCCwAllAnMQgsHLYWEBxPQrXo8BZQOf7qfHShVpACKwcWmRDXEB9PzVeuhldQFpkO99PpV5APQrXo3BFX0BWDi2ynYNgQGq8dJMYAGJAYOXQItshYkAhsHJokaljQMHKoUW2n2NAsp3vp8anZEApXI/C9SBmQA==\",\"dtype\":\"float64\",\"order\":\"little\",\"shape\":[101]},\"country\":[\"Europe\",\"Europe\",\"Europe\",\"Europe\",\"Europe\",\"Europe\",\"Europe\",\"Europe\",\"Europe\",\"Europe\",\"Europe\",\"Europe\",\"Europe\",\"Europe\",\"Europe\",\"Europe\",\"Europe\",\"Europe\",\"Europe\",\"Europe\",\"Europe\",\"Europe\",\"Europe\",\"Europe\",\"Europe\",\"Europe\",\"Europe\",\"Europe\",\"Europe\",\"Europe\",\"Europe\",\"Europe\",\"Europe\",\"Europe\",\"Europe\",\"Europe\",\"Europe\",\"Europe\",\"Europe\",\"Europe\",\"Europe\",\"Europe\",\"Europe\",\"Europe\",\"Europe\",\"Europe\",\"Europe\",\"Europe\",\"Europe\",\"Europe\",\"Europe\",\"Europe\",\"Europe\",\"Europe\",\"Europe\",\"Europe\",\"Europe\",\"Europe\",\"Europe\",\"Europe\",\"Europe\",\"Europe\",\"Europe\",\"Europe\",\"Europe\",\"Europe\",\"Europe\",\"Europe\",\"Europe\",\"Europe\",\"Europe\",\"Europe\",\"Europe\",\"Europe\",\"Europe\",\"Europe\",\"Europe\",\"Europe\",\"Europe\",\"Europe\",\"Europe\",\"Europe\",\"Europe\",\"Europe\",\"Europe\",\"Europe\",\"Europe\",\"Europe\",\"Europe\",\"Europe\",\"Europe\",\"Europe\",\"Europe\",\"Europe\",\"Europe\",\"Europe\",\"Europe\",\"Europe\",\"Europe\",\"Europe\",\"Europe\"],\"iso_code\":[0,0,0,0,0,0,0,0,0,0,0,0,0,0,0,0,0,0,0,0,0,0,0,0,0,0,0,0,0,0,0,0,0,0,0,0,0,0,0,0,0,0,0,0,0,0,0,0,0,0,0,0,0,0,0,0,0,0,0,0,0,0,0,0,0,0,0,0,0,0,0,0,0,0,0,0,0,0,0,0,0,0,0,0,0,0,0,0,0,0,0,0,0,0,0,0,0,0,0,0,0],\"year\":[1750,1751,1752,1753,1754,1755,1756,1757,1758,1759,1760,1761,1762,1763,1764,1765,1766,1767,1768,1769,1770,1771,1772,1773,1774,1775,1776,1777,1778,1779,1780,1781,1782,1783,1784,1785,1786,1787,1788,1789,1790,1791,1792,1793,1794,1795,1796,1797,1798,1799,1800,1801,1802,1803,1804,1805,1806,1807,1808,1809,1810,1811,1812,1813,1814,1815,1816,1817,1818,1819,1820,1821,1822,1823,1824,1825,1826,1827,1828,1829,1830,1831,1832,1833,1834,1835,1836,1837,1838,1839,1840,1841,1842,1843,1844,1845,1846,1847,1848,1849,1850]},\"selected\":{\"id\":\"1098\"},\"selection_policy\":{\"id\":\"1116\"}},\"id\":\"1097\",\"type\":\"ColumnDataSource\"},{\"attributes\":{\"source\":{\"id\":\"1147\"}},\"id\":\"1154\",\"type\":\"CDSView\"},{\"attributes\":{\"line_alpha\":0.2,\"line_color\":\"#9467bd\",\"line_width\":2,\"x\":{\"field\":\"year\"},\"y\":{\"field\":\"co2\"}},\"id\":\"1210\",\"type\":\"Line\"},{\"attributes\":{\"end\":216.5856,\"reset_end\":216.5856,\"reset_start\":-19.6896,\"start\":-19.6896,\"tags\":[[[\"co2\",\"co2\",null]]]},\"id\":\"1010\",\"type\":\"Range1d\"},{\"attributes\":{\"label\":{\"value\":\"0, Oceania\"},\"renderers\":[{\"id\":\"1153\"}]},\"id\":\"1173\",\"type\":\"LegendItem\"},{\"attributes\":{},\"id\":\"1025\",\"type\":\"LinearScale\"},{\"attributes\":{\"line_color\":\"#e5ae38\",\"line_width\":2,\"x\":{\"field\":\"year\"},\"y\":{\"field\":\"co2\"}},\"id\":\"1100\",\"type\":\"Line\"},{\"attributes\":{\"data\":{\"co2\":{\"__ndarray__\":\"wcqhRbazIkDByqFFtrMiQGiR7Xw/tSJAaJHtfD+1IkCe76fGS7ciQNNNYhBYuSJAUI2XbhIDJECF61G4HgUkQLpJDAIrByRAYhBYObQIJEBiEFg5tAgkQKabxCCw8iVATmIQWDn0JUCDwMqhRfYlQLgehetR+CVAYOXQItv5JUCF61G4HoUoQC2yne+nhihAYhBYObSIKECYbhKDwIooQD81XrpJjChA001iEFg5K0B7FK5H4TorQLByaJHtPCtA5dAi2/k+K0CNl24Sg0ArQG3n+6nxEi5AokW28/0ULkBKDAIrhxYuQH9qvHSTGC5AXI/C9SgcLkArhxbZztcwQEa28/3U2DBAtMh2vp/aMEDP91PjpdswQFg5tMh23jBA9P3UeOkmM0BiEFg5tCgzQH0/NV66KTNA7FG4HoUrM0BaZDvfTy0zQOxRuB6FazVATDeJQWDlNUBEi2zn++k1QKjGSzeJ4TVAMQisHFrkNUD6fmq8dPM2QPLSTWIQGDhAuB6F61EYOUAhsHJokW06QGQ730+NFzxA9ihcj8L1O0BOYhBYOWRCQLByaJHtfD9ASOF6FK4nQUASg8DKobVAQNnO91PjhUFAHVpkO99vQkDVeOkmMYhBQOxRuB6Fi0FAcT0K16OwQkDRItv5fspDQDeJQWDlgERAXI/C9SicRECNl24SgxBFQFg5tMh2vkVAhetRuB7VR0C6SQwCK7dIQN9PjZdu0khA001iEFj5SEDy0k1iEFhJQEjhehSut0lA7FG4HoW7SkBmZmZmZkZMQDMzMzMzQ01AVOOlm8RgTkD2KFyPwrVOQMP1KFyPelBAVOOlm8SoUEDhehSuR5lQQB1aZDvfR1ZAbxKDwMohVUDJdr6fGkdVQM/3U+Ols1VAyXa+nxofVkAGgZVDi5xWQIts5/upMVpATmIQWDksWkCJQWDl0AJbQKwcWmQ751tA7FG4HoW7XUBWDi2ynadeQOOlm8QgMGBAnu+nxkubYECoxks3ia1hQJhuEoPAZmNAxSCwcmi5Y0C+nxov3YxlQCcxCKwcumVAMQisHFrwZkDpJjEIrJxoQA==\",\"dtype\":\"float64\",\"order\":\"little\",\"shape\":[101]},\"country\":[\"World\",\"World\",\"World\",\"World\",\"World\",\"World\",\"World\",\"World\",\"World\",\"World\",\"World\",\"World\",\"World\",\"World\",\"World\",\"World\",\"World\",\"World\",\"World\",\"World\",\"World\",\"World\",\"World\",\"World\",\"World\",\"World\",\"World\",\"World\",\"World\",\"World\",\"World\",\"World\",\"World\",\"World\",\"World\",\"World\",\"World\",\"World\",\"World\",\"World\",\"World\",\"World\",\"World\",\"World\",\"World\",\"World\",\"World\",\"World\",\"World\",\"World\",\"World\",\"World\",\"World\",\"World\",\"World\",\"World\",\"World\",\"World\",\"World\",\"World\",\"World\",\"World\",\"World\",\"World\",\"World\",\"World\",\"World\",\"World\",\"World\",\"World\",\"World\",\"World\",\"World\",\"World\",\"World\",\"World\",\"World\",\"World\",\"World\",\"World\",\"World\",\"World\",\"World\",\"World\",\"World\",\"World\",\"World\",\"World\",\"World\",\"World\",\"World\",\"World\",\"World\",\"World\",\"World\",\"World\",\"World\",\"World\",\"World\",\"World\",\"World\"],\"iso_code\":[0,0,0,0,0,0,0,0,0,0,0,0,0,0,0,0,0,0,0,0,0,0,0,0,0,0,0,0,0,0,0,0,0,0,0,0,0,0,0,0,0,0,0,0,0,0,0,0,0,0,0,0,0,0,0,0,0,0,0,0,0,0,0,0,0,0,0,0,0,0,0,0,0,0,0,0,0,0,0,0,0,0,0,0,0,0,0,0,0,0,0,0,0,0,0,0,0,0,0,0,0],\"year\":[1750,1751,1752,1753,1754,1755,1756,1757,1758,1759,1760,1761,1762,1763,1764,1765,1766,1767,1768,1769,1770,1771,1772,1773,1774,1775,1776,1777,1778,1779,1780,1781,1782,1783,1784,1785,1786,1787,1788,1789,1790,1791,1792,1793,1794,1795,1796,1797,1798,1799,1800,1801,1802,1803,1804,1805,1806,1807,1808,1809,1810,1811,1812,1813,1814,1815,1816,1817,1818,1819,1820,1821,1822,1823,1824,1825,1826,1827,1828,1829,1830,1831,1832,1833,1834,1835,1836,1837,1838,1839,1840,1841,1842,1843,1844,1845,1846,1847,1848,1849,1850]},\"selected\":{\"id\":\"1206\"},\"selection_policy\":{\"id\":\"1232\"}},\"id\":\"1205\",\"type\":\"ColumnDataSource\"},{\"attributes\":{\"reload\":false},\"id\":\"1392\",\"type\":\"panel.models.location.Location\"},{\"attributes\":{\"line_alpha\":0.2,\"line_color\":\"#30a2da\",\"line_width\":2,\"x\":{\"field\":\"year\"},\"y\":{\"field\":\"co2\"}},\"id\":\"1059\",\"type\":\"Line\"},{\"attributes\":{},\"id\":\"1170\",\"type\":\"UnionRenderers\"},{\"attributes\":{\"coordinates\":null,\"data_source\":{\"id\":\"1075\"},\"glyph\":{\"id\":\"1078\"},\"group\":null,\"hover_glyph\":null,\"muted_glyph\":{\"id\":\"1080\"},\"nonselection_glyph\":{\"id\":\"1079\"},\"selection_glyph\":{\"id\":\"1096\"},\"view\":{\"id\":\"1082\"}},\"id\":\"1081\",\"type\":\"GlyphRenderer\"},{\"attributes\":{\"line_alpha\":0.1,\"line_color\":\"#9467bd\",\"line_width\":2,\"x\":{\"field\":\"year\"},\"y\":{\"field\":\"co2\"}},\"id\":\"1209\",\"type\":\"Line\"},{\"attributes\":{\"client_comm_id\":\"282b62c07b5f4c40b920a002865acd03\",\"comm_id\":\"0ef5b5b079ec45368fced4d8b93ea128\",\"plot_id\":\"1002\"},\"id\":\"1325\",\"type\":\"panel.models.comm_manager.CommManager\"},{\"attributes\":{\"coordinates\":null,\"data_source\":{\"id\":\"1205\"},\"glyph\":{\"id\":\"1208\"},\"group\":null,\"hover_glyph\":null,\"muted_glyph\":{\"id\":\"1210\"},\"nonselection_glyph\":{\"id\":\"1209\"},\"selection_glyph\":{\"id\":\"1236\"},\"view\":{\"id\":\"1212\"}},\"id\":\"1211\",\"type\":\"GlyphRenderer\"},{\"attributes\":{\"children\":[{\"id\":\"1005\"},{\"id\":\"1008\"}],\"margin\":[0,0,0,0],\"name\":\"Row04169\"},\"id\":\"1004\",\"type\":\"Row\"},{\"attributes\":{\"data\":{\"co2\":{\"__ndarray__\":\"AAAAAAAAAAAAAAAAAAAAAAAAAAAAAAAAAAAAAAAAAAAAAAAAAAAAAAAAAAAAAAAAAAAAAAAAAAAAAAAAAAAAAAAAAAAAAAAAAAAAAAAAAAAAAAAAAAAAAAAAAAAAAAAAAAAAAAAAAAAAAAAAAAAAAAAAAAAAAAAAAAAAAAAAAAAAAAAAAAAAAAAAAAAAAAAAAAAAAAAAAAAAAAAAAAAAAAAAAAAAAAAAAAAAAAAAAAAAAAAAAAAAAAAAAAAAAAAAAAAAAAAAAAAAAAAAAAAAAAAAAAAAAAAAAAAAAAAAAAAAAAAAAAAAAAAAAAAAAAAAAAAAAAAAAAAAAAAAAAAAAAAAAAAAAAAAAAAAAAAAAAAAAAAAAAAAAAAAAAAAAAAAAAAAAAAAAAAAAAAAAAAAAAAAAAAAAAAAAAAAAAAAAAAAAAAAAAAAAAAAAAAAAAAAAAAAAAAAAAAAAAAAAAAAAAAAAAAAAAAAAAAAAAAAAAAAAAAAAAAAAAAAAAAAAAAAAAAAAAAAAAAAAAAAAAAAAAAAAAAAAAAAAAAAAAAAAAAAAAAAAAAAAAAAAAAAAAAAAAAAAAAAAAAAAAAAAAAAAAAAAAAAAAAAAAAAAAAAAAAAAAAAAAAAAAAAAAAAAAAAAAAAAAAAAAAAAAAAAAAAAAAAAAAAAAAAAAAAAAAAAAAAAAAAAAAAAAAAAAAAAAAAAAAAAAAAAAAAAAAAAAAAAAAAAAAAAAAAAAAAAAAAAAAAAAAAAAAAAAAAAAAAAAAAAAAAAAAAAAAAAAAAAAAAAAAAAAAAAAAAAAAAAAAAAAAAAAAAAAAAAAAAAAAAAAAAAAAAAAAAAAAAAAAAAAAAAPyp8dJNYmA/+n5qvHSTaD/8qfHSTWJgP/yp8dJNYmA/AAAAAAAAAAAAAAAAAAAAAAAAAAAAAAAAAAAAAAAAAAAAAAAAAAAAAAAAAAAAAAAAAAAAAAAAAAAAAAAAAAAAAAAAAAAAAAAAAAAAAAAAAAAAAAAAAAAAAAAAAAAAAAAAAAAAAAAAAAAAAAAAAAAAAAAAAAAAAAAAAAAAAAAAAAC4HoXrUbiOPw==\",\"dtype\":\"float64\",\"order\":\"little\",\"shape\":[101]},\"country\":[\"Asia\",\"Asia\",\"Asia\",\"Asia\",\"Asia\",\"Asia\",\"Asia\",\"Asia\",\"Asia\",\"Asia\",\"Asia\",\"Asia\",\"Asia\",\"Asia\",\"Asia\",\"Asia\",\"Asia\",\"Asia\",\"Asia\",\"Asia\",\"Asia\",\"Asia\",\"Asia\",\"Asia\",\"Asia\",\"Asia\",\"Asia\",\"Asia\",\"Asia\",\"Asia\",\"Asia\",\"Asia\",\"Asia\",\"Asia\",\"Asia\",\"Asia\",\"Asia\",\"Asia\",\"Asia\",\"Asia\",\"Asia\",\"Asia\",\"Asia\",\"Asia\",\"Asia\",\"Asia\",\"Asia\",\"Asia\",\"Asia\",\"Asia\",\"Asia\",\"Asia\",\"Asia\",\"Asia\",\"Asia\",\"Asia\",\"Asia\",\"Asia\",\"Asia\",\"Asia\",\"Asia\",\"Asia\",\"Asia\",\"Asia\",\"Asia\",\"Asia\",\"Asia\",\"Asia\",\"Asia\",\"Asia\",\"Asia\",\"Asia\",\"Asia\",\"Asia\",\"Asia\",\"Asia\",\"Asia\",\"Asia\",\"Asia\",\"Asia\",\"Asia\",\"Asia\",\"Asia\",\"Asia\",\"Asia\",\"Asia\",\"Asia\",\"Asia\",\"Asia\",\"Asia\",\"Asia\",\"Asia\",\"Asia\",\"Asia\",\"Asia\",\"Asia\",\"Asia\",\"Asia\",\"Asia\",\"Asia\",\"Asia\"],\"iso_code\":[0,0,0,0,0,0,0,0,0,0,0,0,0,0,0,0,0,0,0,0,0,0,0,0,0,0,0,0,0,0,0,0,0,0,0,0,0,0,0,0,0,0,0,0,0,0,0,0,0,0,0,0,0,0,0,0,0,0,0,0,0,0,0,0,0,0,0,0,0,0,0,0,0,0,0,0,0,0,0,0,0,0,0,0,0,0,0,0,0,0,0,0,0,0,0,0,0,0,0,0,0],\"year\":[1750,1751,1752,1753,1754,1755,1756,1757,1758,1759,1760,1761,1762,1763,1764,1765,1766,1767,1768,1769,1770,1771,1772,1773,1774,1775,1776,1777,1778,1779,1780,1781,1782,1783,1784,1785,1786,1787,1788,1789,1790,1791,1792,1793,1794,1795,1796,1797,1798,1799,1800,1801,1802,1803,1804,1805,1806,1807,1808,1809,1810,1811,1812,1813,1814,1815,1816,1817,1818,1819,1820,1821,1822,1823,1824,1825,1826,1827,1828,1829,1830,1831,1832,1833,1834,1835,1836,1837,1838,1839,1840,1841,1842,1843,1844,1845,1846,1847,1848,1849,1850]},\"selected\":{\"id\":\"1076\"},\"selection_policy\":{\"id\":\"1092\"}},\"id\":\"1075\",\"type\":\"ColumnDataSource\"},{\"attributes\":{\"label\":{\"value\":\"0, World\"},\"renderers\":[{\"id\":\"1211\"}]},\"id\":\"1235\",\"type\":\"LegendItem\"},{\"attributes\":{\"line_alpha\":0.1,\"line_color\":\"#e5ae38\",\"line_width\":2,\"x\":{\"field\":\"year\"},\"y\":{\"field\":\"co2\"}},\"id\":\"1101\",\"type\":\"Line\"},{\"attributes\":{},\"id\":\"1076\",\"type\":\"Selection\"},{\"attributes\":{\"line_alpha\":0.1,\"line_color\":\"#fc4f30\",\"line_width\":2,\"x\":{\"field\":\"year\"},\"y\":{\"field\":\"co2\"}},\"id\":\"1079\",\"type\":\"Line\"},{\"attributes\":{\"line_color\":\"#6d904f\",\"line_width\":2,\"x\":{\"field\":\"year\"},\"y\":{\"field\":\"co2\"}},\"id\":\"1124\",\"type\":\"Line\"},{\"attributes\":{\"label\":{\"value\":\"0, Africa\"},\"renderers\":[{\"id\":\"1060\"}]},\"id\":\"1073\",\"type\":\"LegendItem\"},{\"attributes\":{},\"id\":\"1206\",\"type\":\"Selection\"},{\"attributes\":{\"source\":{\"id\":\"1075\"}},\"id\":\"1082\",\"type\":\"CDSView\"},{\"attributes\":{\"line_color\":\"#9467bd\",\"line_width\":2,\"x\":{\"field\":\"year\"},\"y\":{\"field\":\"co2\"}},\"id\":\"1208\",\"type\":\"Line\"},{\"attributes\":{\"source\":{\"id\":\"1205\"}},\"id\":\"1212\",\"type\":\"CDSView\"},{\"attributes\":{\"label\":{\"value\":\"0, Asia\"},\"renderers\":[{\"id\":\"1081\"}]},\"id\":\"1095\",\"type\":\"LegendItem\"},{\"attributes\":{\"line_color\":\"#e5ae38\",\"line_width\":2,\"x\":{\"field\":\"year\"},\"y\":{\"field\":\"co2\"}},\"id\":\"1120\",\"type\":\"Line\"},{\"attributes\":{},\"id\":\"1232\",\"type\":\"UnionRenderers\"},{\"attributes\":{},\"id\":\"1092\",\"type\":\"UnionRenderers\"},{\"attributes\":{},\"id\":\"1028\",\"type\":\"BasicTicker\"},{\"attributes\":{\"coordinates\":null,\"data_source\":{\"id\":\"1121\"},\"glyph\":{\"id\":\"1124\"},\"group\":null,\"hover_glyph\":null,\"muted_glyph\":{\"id\":\"1126\"},\"nonselection_glyph\":{\"id\":\"1125\"},\"selection_glyph\":{\"id\":\"1146\"},\"view\":{\"id\":\"1128\"}},\"id\":\"1127\",\"type\":\"GlyphRenderer\"},{\"attributes\":{\"coordinates\":null,\"data_source\":{\"id\":\"1054\"},\"glyph\":{\"id\":\"1057\"},\"group\":null,\"hover_glyph\":null,\"muted_glyph\":{\"id\":\"1059\"},\"nonselection_glyph\":{\"id\":\"1058\"},\"selection_glyph\":{\"id\":\"1074\"},\"view\":{\"id\":\"1061\"}},\"id\":\"1060\",\"type\":\"GlyphRenderer\"},{\"attributes\":{\"axis_label\":\"year\",\"coordinates\":null,\"formatter\":{\"id\":\"1049\"},\"group\":null,\"major_label_policy\":{\"id\":\"1050\"},\"ticker\":{\"id\":\"1028\"}},\"id\":\"1027\",\"type\":\"LinearAxis\"},{\"attributes\":{\"coordinates\":null,\"group\":null,\"text\":\"CO2 emission by continent\",\"text_color\":\"black\",\"text_font_size\":\"12pt\"},\"id\":\"1019\",\"type\":\"Title\"},{\"attributes\":{\"tools\":[{\"id\":\"1011\"},{\"id\":\"1035\"},{\"id\":\"1036\"},{\"id\":\"1037\"},{\"id\":\"1038\"},{\"id\":\"1039\"}]},\"id\":\"1041\",\"type\":\"Toolbar\"},{\"attributes\":{\"end\":2020,\"margin\":[5,10,5,10],\"start\":1750,\"step\":5,\"title\":\"Year slider\",\"value\":1850},\"id\":\"1006\",\"type\":\"Slider\"},{\"attributes\":{},\"id\":\"1036\",\"type\":\"PanTool\"},{\"attributes\":{\"data\":{\"co2\":{\"__ndarray__\":\"AAAAAAAAAAAAAAAAAAAAAAAAAAAAAAAAAAAAAAAAAAAAAAAAAAAAAAAAAAAAAAAAAAAAAAAAAAAAAAAAAAAAAAAAAAAAAAAAAAAAAAAAAAAAAAAAAAAAAAAAAAAAAAAAAAAAAAAAAAAAAAAAAAAAAAAAAAAAAAAAAAAAAAAAAAAAAAAAAAAAAAAAAAAAAAAAAAAAAAAAAAAAAAAAAAAAAAAAAAAAAAAAAAAAAAAAAAAAAAAAAAAAAAAAAAAAAAAAAAAAAAAAAAAAAAAAAAAAAAAAAAAAAAAAAAAAAAAAAAAAAAAAAAAAAAAAAAAAAAAAAAAAAAAAAAAAAAAAAAAAAAAAAAAAAAAAAAAAAAAAAAAAAAAAAAAAAPyp8dJNYnA//Knx0k1icD/8qfHSTWJwP/yp8dJNYnA//Knx0k1icD/8qfHSTWJwP/yp8dJNYnA//Knx0k1icD/8qfHSTWJwP/yp8dJNYnA//Knx0k1icD/8qfHSTWJwP/yp8dJNYnA//Knx0k1icD/8qfHSTWJwP/yp8dJNYtA/8tJNYhBY0T+Nl24Sg8DSPzMzMzMzM9M/xSCwcmiR1T9qvHSTGATWP8UgsHJokdU//Knx0k1i2D/y0k1iEFjZPz81XrpJDNo/i2zn+6nx2j93vp8aL93cP166SQwCK98/+FPjpZvE4D8/NV66SQziP1yPwvUoXOM/8tJNYhBY5T+0yHa+nxrnP0oMAiuHFuk/UI2XbhKD6D9xPQrXo3DpPzm0yHa+n+o/LbKd76fG6z/2KFyPwvXsP+f7qfHSTfA/PQrXo3A98j+0yHa+nxr1P57vp8ZLN/c/xSCwcmiR+T9iEFg5tMj8PyPb+X5qvABAvp8aL90kAkBoke18PzUIQKjGSzeJQQxASgwCK4cWC0BI4XoUrkcRQFYOLbKd7xJAI9v5fmo8FUCJQWDl0CIUQEoMAiuHFhZANV66SQyCF0CsHFpkO98YQMl2vp8arxtA30+Nl24SH0AfhetRuJ4iQNEi2/l+aiZARrbz/dR4KUDb+X5qvDQuQDMzMzMz0zBAvp8aL91EMkAnMQisHNozQA==\",\"dtype\":\"float64\",\"order\":\"little\",\"shape\":[101]},\"country\":[\"North America\",\"North America\",\"North America\",\"North America\",\"North America\",\"North America\",\"North America\",\"North America\",\"North America\",\"North America\",\"North America\",\"North America\",\"North America\",\"North America\",\"North America\",\"North America\",\"North America\",\"North America\",\"North America\",\"North America\",\"North America\",\"North America\",\"North America\",\"North America\",\"North America\",\"North America\",\"North America\",\"North America\",\"North America\",\"North America\",\"North America\",\"North America\",\"North America\",\"North America\",\"North America\",\"North America\",\"North America\",\"North America\",\"North America\",\"North America\",\"North America\",\"North America\",\"North America\",\"North America\",\"North America\",\"North America\",\"North America\",\"North America\",\"North America\",\"North America\",\"North America\",\"North America\",\"North America\",\"North America\",\"North America\",\"North America\",\"North America\",\"North America\",\"North America\",\"North America\",\"North America\",\"North America\",\"North America\",\"North America\",\"North America\",\"North America\",\"North America\",\"North America\",\"North America\",\"North America\",\"North America\",\"North America\",\"North America\",\"North America\",\"North America\",\"North America\",\"North America\",\"North America\",\"North America\",\"North America\",\"North America\",\"North America\",\"North America\",\"North America\",\"North America\",\"North America\",\"North America\",\"North America\",\"North America\",\"North America\",\"North America\",\"North America\",\"North America\",\"North America\",\"North America\",\"North America\",\"North America\",\"North America\",\"North America\",\"North America\",\"North America\"],\"iso_code\":[0,0,0,0,0,0,0,0,0,0,0,0,0,0,0,0,0,0,0,0,0,0,0,0,0,0,0,0,0,0,0,0,0,0,0,0,0,0,0,0,0,0,0,0,0,0,0,0,0,0,0,0,0,0,0,0,0,0,0,0,0,0,0,0,0,0,0,0,0,0,0,0,0,0,0,0,0,0,0,0,0,0,0,0,0,0,0,0,0,0,0,0,0,0,0,0,0,0,0,0,0],\"year\":[1750,1751,1752,1753,1754,1755,1756,1757,1758,1759,1760,1761,1762,1763,1764,1765,1766,1767,1768,1769,1770,1771,1772,1773,1774,1775,1776,1777,1778,1779,1780,1781,1782,1783,1784,1785,1786,1787,1788,1789,1790,1791,1792,1793,1794,1795,1796,1797,1798,1799,1800,1801,1802,1803,1804,1805,1806,1807,1808,1809,1810,1811,1812,1813,1814,1815,1816,1817,1818,1819,1820,1821,1822,1823,1824,1825,1826,1827,1828,1829,1830,1831,1832,1833,1834,1835,1836,1837,1838,1839,1840,1841,1842,1843,1844,1845,1846,1847,1848,1849,1850]},\"selected\":{\"id\":\"1122\"},\"selection_policy\":{\"id\":\"1142\"}},\"id\":\"1121\",\"type\":\"ColumnDataSource\"},{\"attributes\":{\"axis\":{\"id\":\"1027\"},\"coordinates\":null,\"grid_line_color\":null,\"group\":null,\"ticker\":null},\"id\":\"1030\",\"type\":\"Grid\"},{\"attributes\":{},\"id\":\"1055\",\"type\":\"Selection\"},{\"attributes\":{\"line_color\":\"#30a2da\",\"line_width\":2,\"x\":{\"field\":\"year\"},\"y\":{\"field\":\"co2\"}},\"id\":\"1057\",\"type\":\"Line\"},{\"attributes\":{},\"id\":\"1122\",\"type\":\"Selection\"},{\"attributes\":{\"axis_label\":\"co2\",\"coordinates\":null,\"formatter\":{\"id\":\"1052\"},\"group\":null,\"major_label_policy\":{\"id\":\"1053\"},\"ticker\":{\"id\":\"1032\"}},\"id\":\"1031\",\"type\":\"LinearAxis\"},{\"attributes\":{\"click_policy\":\"mute\",\"coordinates\":null,\"group\":null,\"items\":[{\"id\":\"1073\"},{\"id\":\"1095\"},{\"id\":\"1119\"},{\"id\":\"1145\"},{\"id\":\"1173\"},{\"id\":\"1203\"},{\"id\":\"1235\"}],\"location\":[0,0],\"title\":\"iso_code, country\"},\"id\":\"1072\",\"type\":\"Legend\"},{\"attributes\":{\"axis\":{\"id\":\"1031\"},\"coordinates\":null,\"dimension\":1,\"grid_line_color\":null,\"group\":null,\"ticker\":null},\"id\":\"1034\",\"type\":\"Grid\"},{\"attributes\":{\"line_alpha\":0.1,\"line_color\":\"#30a2da\",\"line_width\":2,\"x\":{\"field\":\"year\"},\"y\":{\"field\":\"co2\"}},\"id\":\"1058\",\"type\":\"Line\"},{\"attributes\":{\"source\":{\"id\":\"1121\"}},\"id\":\"1128\",\"type\":\"CDSView\"},{\"attributes\":{},\"id\":\"1032\",\"type\":\"BasicTicker\"},{\"attributes\":{\"children\":[{\"id\":\"1006\"},{\"id\":\"1007\"}],\"margin\":[0,0,0,0],\"name\":\"Column04164\"},\"id\":\"1005\",\"type\":\"Column\"},{\"attributes\":{\"source\":{\"id\":\"1054\"}},\"id\":\"1061\",\"type\":\"CDSView\"},{\"attributes\":{},\"id\":\"1037\",\"type\":\"WheelZoomTool\"},{\"attributes\":{\"line_color\":\"#8b8b8b\",\"line_width\":2,\"x\":{\"field\":\"year\"},\"y\":{\"field\":\"co2\"}},\"id\":\"1174\",\"type\":\"Line\"},{\"attributes\":{\"label\":{\"value\":\"0, North America\"},\"renderers\":[{\"id\":\"1127\"}]},\"id\":\"1145\",\"type\":\"LegendItem\"},{\"attributes\":{\"margin\":[5,5,5,5],\"name\":\"HSpacer04168\",\"sizing_mode\":\"stretch_width\"},\"id\":\"1008\",\"type\":\"Spacer\"},{\"attributes\":{},\"id\":\"1039\",\"type\":\"ResetTool\"},{\"attributes\":{},\"id\":\"1035\",\"type\":\"SaveTool\"},{\"attributes\":{\"children\":[{\"id\":\"1004\"},{\"id\":\"1018\"}],\"margin\":[0,0,0,0],\"name\":\"Column04175\"},\"id\":\"1003\",\"type\":\"Column\"},{\"attributes\":{\"overlay\":{\"id\":\"1040\"}},\"id\":\"1038\",\"type\":\"BoxZoomTool\"}],\"root_ids\":[\"1002\",\"1325\",\"1392\"]},\"title\":\"Bokeh Application\",\"version\":\"2.4.3\"}};\n",
       "    var render_items = [{\"docid\":\"bdceb7f5-afe0-4633-b699-354f13faa090\",\"root_ids\":[\"1002\"],\"roots\":{\"1002\":\"b229123e-f0f6-40a1-9962-b1c8e4cdea78\"}}];\n",
       "    root.Bokeh.embed.embed_items_notebook(docs_json, render_items);\n",
       "  }\n",
       "  if (root.Bokeh !== undefined && root.Bokeh.Panel !== undefined && ( root['Tabulator'] !== undefined)) {\n",
       "    embed_document(root);\n",
       "  } else {\n",
       "    var attempts = 0;\n",
       "    var timer = setInterval(function(root) {\n",
       "      if (root.Bokeh !== undefined && root.Bokeh.Panel !== undefined && (root['Tabulator'] !== undefined)) {\n",
       "        clearInterval(timer);\n",
       "        embed_document(root);\n",
       "      } else if (document.readyState == \"complete\") {\n",
       "        attempts++;\n",
       "        if (attempts > 200) {\n",
       "          clearInterval(timer);\n",
       "          console.log(\"Bokeh: ERROR: Unable to run BokehJS code because BokehJS library is missing\");\n",
       "        }\n",
       "      }\n",
       "    }, 25, root)\n",
       "  }\n",
       "})(window);</script>"
      ],
      "text/plain": [
       "<hvplot.interactive.Interactive at 0x28ffeaf6c70>"
      ]
     },
     "execution_count": 15,
     "metadata": {
      "application/vnd.holoviews_exec.v0+json": {
       "id": "1002"
      }
     },
     "output_type": "execute_result"
    }
   ],
   "source": [
    "co2_plot = co2_pipeline.hvplot(x = 'year', by=['iso_code','country'], y=yaxis_co2,line_width=2, title=\"CO2 emission by continent\")\n",
    "co2_plot"
   ]
  },
  {
   "cell_type": "code",
   "execution_count": 16,
   "id": "552b090a-892e-45d9-813c-c5a1f038d025",
   "metadata": {
    "execution": {
     "iopub.execute_input": "2023-02-27T08:30:13.848752Z",
     "iopub.status.busy": "2023-02-27T08:30:13.848752Z",
     "iopub.status.idle": "2023-02-27T08:30:13.862767Z",
     "shell.execute_reply": "2023-02-27T08:30:13.862767Z",
     "shell.execute_reply.started": "2023-02-27T08:30:13.848752Z"
    }
   },
   "outputs": [],
   "source": [
    "# lst_temp = list(np.linspace(0,9,10))\n",
    "# lst_temp_slider = pn.widgets.DiscreteSlider(name='offset2', options=lst_temp,value=0)\n",
    "# lst_temp_slider"
   ]
  },
  {
   "cell_type": "code",
   "execution_count": 17,
   "id": "081c3fb3-1013-43ad-acc5-d01540ba2239",
   "metadata": {
    "execution": {
     "iopub.execute_input": "2023-02-27T08:30:13.864748Z",
     "iopub.status.busy": "2023-02-27T08:30:13.864748Z",
     "iopub.status.idle": "2023-02-27T08:30:13.910743Z",
     "shell.execute_reply": "2023-02-27T08:30:13.909789Z",
     "shell.execute_reply.started": "2023-02-27T08:30:13.864748Z"
    }
   },
   "outputs": [],
   "source": [
    "bootstrap = pn.template.BootstrapTemplate(title='Bootstrap Template')\n",
    "\n",
    "xs = np.linspace(0, np.pi)\n",
    "freq = pn.widgets.FloatSlider(name=\"Frequency\", start=0, end=10, value=2)\n",
    "phase = pn.widgets.FloatSlider(name=\"Phase\", start=0, end=np.pi)\n",
    "\n",
    "@pn.depends(freq=freq, phase=phase)\n",
    "def sine(freq, phase):\n",
    "    return hv.Curve((xs, np.sin(xs*freq+phase))).opts(\n",
    "        responsive=True, min_height=400)\n",
    "\n",
    "@pn.depends(freq=freq, phase=phase)\n",
    "def cosine(freq, phase):\n",
    "    return hv.Curve((xs, np.cos(xs*freq+phase))).opts(\n",
    "        responsive=True, min_height=400)\n",
    "\n",
    "bootstrap.sidebar.append(freq)\n",
    "bootstrap.sidebar.append(phase)\n",
    "\n",
    "bootstrap.main.append(\n",
    "    pn.Row(\n",
    "        pn.Card(hv.DynamicMap(sine), title='Sine'),\n",
    "        pn.Card(hv.DynamicMap(cosine), title='Cosine')\n",
    "    )\n",
    ")"
   ]
  },
  {
   "cell_type": "markdown",
   "id": "b2e3cb1b-093c-47ae-b6df-60a0487d0023",
   "metadata": {},
   "source": [
    "## (2) Table - CO2 emission over time by continent "
   ]
  },
  {
   "cell_type": "code",
   "execution_count": 18,
   "id": "f9496235-820f-49c8-a375-fbef06be6c1e",
   "metadata": {
    "execution": {
     "iopub.execute_input": "2023-02-27T08:30:13.912800Z",
     "iopub.status.busy": "2023-02-27T08:30:13.911743Z",
     "iopub.status.idle": "2023-02-27T08:30:14.666756Z",
     "shell.execute_reply": "2023-02-27T08:30:14.666756Z",
     "shell.execute_reply.started": "2023-02-27T08:30:13.912800Z"
    },
    "tags": []
   },
   "outputs": [
    {
     "data": {},
     "metadata": {},
     "output_type": "display_data"
    },
    {
     "data": {
      "application/vnd.holoviews_exec.v0+json": "",
      "text/html": [
       "<div id='1459'>\n",
       "  <div class=\"bk-root\" id=\"9ef48407-ecb3-4bff-b81c-1d9226d396a6\" data-root-id=\"1459\"></div>\n",
       "</div>\n",
       "<script type=\"application/javascript\">(function(root) {\n",
       "  function embed_document(root) {\n",
       "    var docs_json = {\"aa4d194d-5476-431a-a071-8a2bfc7e1581\":{\"defs\":[{\"extends\":null,\"module\":null,\"name\":\"ReactiveHTML1\",\"overrides\":[],\"properties\":[]},{\"extends\":null,\"module\":null,\"name\":\"FlexBox1\",\"overrides\":[],\"properties\":[{\"default\":\"flex-start\",\"kind\":null,\"name\":\"align_content\"},{\"default\":\"flex-start\",\"kind\":null,\"name\":\"align_items\"},{\"default\":\"row\",\"kind\":null,\"name\":\"flex_direction\"},{\"default\":\"wrap\",\"kind\":null,\"name\":\"flex_wrap\"},{\"default\":\"flex-start\",\"kind\":null,\"name\":\"justify_content\"}]},{\"extends\":null,\"module\":null,\"name\":\"GridStack1\",\"overrides\":[],\"properties\":[{\"default\":\"warn\",\"kind\":null,\"name\":\"mode\"},{\"default\":null,\"kind\":null,\"name\":\"ncols\"},{\"default\":null,\"kind\":null,\"name\":\"nrows\"},{\"default\":true,\"kind\":null,\"name\":\"allow_resize\"},{\"default\":true,\"kind\":null,\"name\":\"allow_drag\"},{\"default\":[],\"kind\":null,\"name\":\"state\"}]},{\"extends\":null,\"module\":null,\"name\":\"click1\",\"overrides\":[],\"properties\":[{\"default\":\"\",\"kind\":null,\"name\":\"terminal_output\"},{\"default\":\"\",\"kind\":null,\"name\":\"debug_name\"},{\"default\":0,\"kind\":null,\"name\":\"clears\"}]},{\"extends\":null,\"module\":null,\"name\":\"NotificationAreaBase1\",\"overrides\":[],\"properties\":[{\"default\":\"bottom-right\",\"kind\":null,\"name\":\"position\"},{\"default\":0,\"kind\":null,\"name\":\"_clear\"}]},{\"extends\":null,\"module\":null,\"name\":\"NotificationArea1\",\"overrides\":[],\"properties\":[{\"default\":[],\"kind\":null,\"name\":\"notifications\"},{\"default\":\"bottom-right\",\"kind\":null,\"name\":\"position\"},{\"default\":0,\"kind\":null,\"name\":\"_clear\"},{\"default\":[{\"background\":\"#ffc107\",\"icon\":{\"className\":\"fas fa-exclamation-triangle\",\"color\":\"white\",\"tagName\":\"i\"},\"type\":\"warning\"},{\"background\":\"#007bff\",\"icon\":{\"className\":\"fas fa-info-circle\",\"color\":\"white\",\"tagName\":\"i\"},\"type\":\"info\"}],\"kind\":null,\"name\":\"types\"}]},{\"extends\":null,\"module\":null,\"name\":\"Notification\",\"overrides\":[],\"properties\":[{\"default\":null,\"kind\":null,\"name\":\"background\"},{\"default\":3000,\"kind\":null,\"name\":\"duration\"},{\"default\":null,\"kind\":null,\"name\":\"icon\"},{\"default\":\"\",\"kind\":null,\"name\":\"message\"},{\"default\":null,\"kind\":null,\"name\":\"notification_type\"},{\"default\":false,\"kind\":null,\"name\":\"_destroyed\"}]},{\"extends\":null,\"module\":null,\"name\":\"TemplateActions1\",\"overrides\":[],\"properties\":[{\"default\":0,\"kind\":null,\"name\":\"open_modal\"},{\"default\":0,\"kind\":null,\"name\":\"close_modal\"}]},{\"extends\":null,\"module\":null,\"name\":\"MaterialTemplateActions1\",\"overrides\":[],\"properties\":[{\"default\":0,\"kind\":null,\"name\":\"open_modal\"},{\"default\":0,\"kind\":null,\"name\":\"close_modal\"}]}],\"roots\":{\"references\":[{\"attributes\":{\"end\":2020,\"margin\":[5,10,5,10],\"start\":1750,\"step\":5,\"title\":\"Year slider\",\"value\":1850},\"id\":\"1463\",\"type\":\"Slider\"},{\"attributes\":{\"active\":0,\"button_type\":\"success\",\"labels\":[\"co2\",\"co2_per_capita\"],\"margin\":[5,10,5,10]},\"id\":\"1464\",\"type\":\"RadioButtonGroup\"},{\"attributes\":{\"indices\":[]},\"id\":\"1468\",\"type\":\"Selection\"},{\"attributes\":{\"format\":\"0,0.0[00000]\",\"text_align\":\"right\"},\"id\":\"1490\",\"type\":\"NumberFormatter\"},{\"attributes\":{\"editor\":{\"id\":\"1486\"},\"field\":\"iso_code\",\"formatter\":{\"id\":\"1485\"},\"title\":\"iso_code\",\"width\":0},\"id\":\"1487\",\"type\":\"TableColumn\"},{\"attributes\":{\"columns\":[{\"id\":\"1472\"},{\"id\":\"1477\"},{\"id\":\"1482\"},{\"id\":\"1487\"},{\"id\":\"1492\"}],\"configuration\":{\"columns\":[{\"field\":\"index\"},{\"field\":\"country\"},{\"field\":\"year\"},{\"field\":\"iso_code\"},{\"field\":\"co2\"}],\"dataTree\":false,\"selectable\":true},\"indexes\":[\"index\"],\"layout\":\"fit_data_table\",\"margin\":[5,10,5,10],\"max_page\":71,\"name\":\"\",\"page\":1,\"page_size\":10,\"pagination\":\"remote\",\"select_mode\":true,\"selectable_rows\":null,\"sizing_mode\":\"stretch_width\",\"source\":{\"id\":\"1467\"},\"styles\":{\"data\":{},\"id\":\"214b0b231f794342bd563dc0f69b24ce\"},\"subscribed_events\":[\"table-edit\",\"cell-click\"]},\"id\":\"1495\",\"type\":\"panel.models.tabulator.DataTabulator\"},{\"attributes\":{\"text_align\":\"left\"},\"id\":\"1469\",\"type\":\"NumberFormatter\"},{\"attributes\":{\"client_comm_id\":\"aa6fcb5d20144cee8a54a39c290f39fb\",\"comm_id\":\"828e8c800b534ef5906c1787cdd6b061\",\"plot_id\":\"1459\"},\"id\":\"1503\",\"type\":\"panel.models.comm_manager.CommManager\"},{\"attributes\":{},\"id\":\"1471\",\"type\":\"CellEditor\"},{\"attributes\":{\"data\":{\"co2\":{\"__ndarray__\":\"AAAAAAAAAAAAAAAAAAAAAAAAAAAAAAAAAAAAAAAAAADByqFFtrMiQMHKoUW2syJAAAAAAAAAAAAAAAAAAAAAAMHKoUW2syJAAAAAAAAAAAA=\",\"dtype\":\"float64\",\"order\":\"little\",\"shape\":[10]},\"country\":[\"Africa\",\"North America\",\"South America\",\"Asia\",\"World\",\"Europe\",\"Oceania\",\"Africa\",\"Europe\",\"Asia\"],\"index\":[0,1,2,3,4,5,6,7,8,9],\"iso_code\":[0,0,0,0,0,0,0,0,0,0],\"year\":[1750,1750,1750,1750,1750,1750,1750,1751,1751,1751]},\"selected\":{\"id\":\"1468\"},\"selection_policy\":{\"id\":\"1497\"}},\"id\":\"1467\",\"type\":\"ColumnDataSource\"},{\"attributes\":{\"margin\":[5,5,5,5],\"name\":\"HSpacer04995\",\"sizing_mode\":\"stretch_width\"},\"id\":\"1465\",\"type\":\"Spacer\"},{\"attributes\":{\"children\":[{\"id\":\"1463\"},{\"id\":\"1464\"}],\"margin\":[0,0,0,0],\"name\":\"Column04900\"},\"id\":\"1462\",\"type\":\"Column\"},{\"attributes\":{\"children\":[{\"id\":\"1495\"}],\"margin\":[0,0,0,0],\"name\":\"Row04905\"},\"id\":\"1466\",\"type\":\"Row\"},{\"attributes\":{\"children\":[{\"id\":\"1462\"},{\"id\":\"1465\"}],\"margin\":[0,0,0,0],\"name\":\"Row04996\"},\"id\":\"1461\",\"type\":\"Row\"},{\"attributes\":{},\"id\":\"1497\",\"type\":\"UnionRenderers\"},{\"attributes\":{\"editor\":{\"id\":\"1491\"},\"field\":\"co2\",\"formatter\":{\"id\":\"1490\"},\"title\":\"co2\",\"width\":0},\"id\":\"1492\",\"type\":\"TableColumn\"},{\"attributes\":{\"text_align\":\"right\"},\"id\":\"1485\",\"type\":\"NumberFormatter\"},{\"attributes\":{},\"id\":\"1475\",\"type\":\"StringFormatter\"},{\"attributes\":{\"editor\":{\"id\":\"1476\"},\"field\":\"country\",\"formatter\":{\"id\":\"1475\"},\"title\":\"country\",\"width\":0},\"id\":\"1477\",\"type\":\"TableColumn\"},{\"attributes\":{\"editor\":{\"id\":\"1481\"},\"field\":\"year\",\"formatter\":{\"id\":\"1480\"},\"title\":\"year\",\"width\":0},\"id\":\"1482\",\"type\":\"TableColumn\"},{\"attributes\":{\"children\":[{\"id\":\"1460\"}],\"margin\":[0,0,0,0],\"name\":\"Row04998\"},\"id\":\"1459\",\"type\":\"Row\"},{\"attributes\":{},\"id\":\"1486\",\"type\":\"IntEditor\"},{\"attributes\":{},\"id\":\"1476\",\"type\":\"StringEditor\"},{\"attributes\":{},\"id\":\"1491\",\"type\":\"NumberEditor\"},{\"attributes\":{\"editor\":{\"id\":\"1471\"},\"field\":\"index\",\"formatter\":{\"id\":\"1469\"},\"title\":\"index\",\"width\":0},\"id\":\"1472\",\"type\":\"TableColumn\"},{\"attributes\":{\"text_align\":\"right\"},\"id\":\"1480\",\"type\":\"NumberFormatter\"},{\"attributes\":{},\"id\":\"1481\",\"type\":\"IntEditor\"},{\"attributes\":{\"children\":[{\"id\":\"1461\"},{\"id\":\"1466\"}],\"margin\":[0,0,0,0],\"name\":\"Column04997\"},\"id\":\"1460\",\"type\":\"Column\"}],\"root_ids\":[\"1459\",\"1503\"]},\"title\":\"Bokeh Application\",\"version\":\"2.4.3\"}};\n",
       "    var render_items = [{\"docid\":\"aa4d194d-5476-431a-a071-8a2bfc7e1581\",\"root_ids\":[\"1459\"],\"roots\":{\"1459\":\"9ef48407-ecb3-4bff-b81c-1d9226d396a6\"}}];\n",
       "    root.Bokeh.embed.embed_items_notebook(docs_json, render_items);\n",
       "  }\n",
       "  if (root.Bokeh !== undefined && root.Bokeh.Panel !== undefined && ( root['Tabulator'] !== undefined)) {\n",
       "    embed_document(root);\n",
       "  } else {\n",
       "    var attempts = 0;\n",
       "    var timer = setInterval(function(root) {\n",
       "      if (root.Bokeh !== undefined && root.Bokeh.Panel !== undefined && (root['Tabulator'] !== undefined)) {\n",
       "        clearInterval(timer);\n",
       "        embed_document(root);\n",
       "      } else if (document.readyState == \"complete\") {\n",
       "        attempts++;\n",
       "        if (attempts > 200) {\n",
       "          clearInterval(timer);\n",
       "          console.log(\"Bokeh: ERROR: Unable to run BokehJS code because BokehJS library is missing\");\n",
       "        }\n",
       "      }\n",
       "    }, 25, root)\n",
       "  }\n",
       "})(window);</script>"
      ],
      "text/plain": [
       "<hvplot.interactive.Interactive at 0x28f8016c190>"
      ]
     },
     "execution_count": 18,
     "metadata": {
      "application/vnd.holoviews_exec.v0+json": {
       "id": "1459"
      }
     },
     "output_type": "execute_result"
    }
   ],
   "source": [
    "co2_table = co2_pipeline.pipe(pn.widgets.Tabulator, pagination='remote', page_size = 10, sizing_mode='stretch_width') \n",
    "co2_table"
   ]
  },
  {
   "cell_type": "markdown",
   "id": "e3483f4a-15d2-4361-9f42-0f0dcf0ac399",
   "metadata": {},
   "source": [
    "## (3) CO2 vs GDP scatterplot"
   ]
  },
  {
   "cell_type": "code",
   "execution_count": 19,
   "id": "8cd37bd6-28e0-4805-843a-397873fa2f59",
   "metadata": {
    "execution": {
     "iopub.execute_input": "2023-02-27T08:30:14.668671Z",
     "iopub.status.busy": "2023-02-27T08:30:14.668671Z",
     "iopub.status.idle": "2023-02-27T08:30:15.365493Z",
     "shell.execute_reply": "2023-02-27T08:30:15.365493Z",
     "shell.execute_reply.started": "2023-02-27T08:30:14.668671Z"
    }
   },
   "outputs": [],
   "source": [
    "co2_vs_gdp_scatterplot_pipeline = (\n",
    "    idf[\n",
    "        (idf.year == year_slider) &\n",
    "        (~ (idf.country.isin(continents)))\n",
    "    ]\n",
    "    .groupby(['country', 'year', 'gdp_per_capita'])['co2'].mean()\n",
    "    .to_frame()\n",
    "    .reset_index()\n",
    "    .sort_values(by='year')  \n",
    "    .reset_index(drop=True)\n",
    ")"
   ]
  },
  {
   "cell_type": "code",
   "execution_count": 20,
   "id": "da1d4289-2f65-4a94-88fc-841bf3e40068",
   "metadata": {
    "execution": {
     "iopub.execute_input": "2023-02-27T08:30:15.366425Z",
     "iopub.status.busy": "2023-02-27T08:30:15.366425Z",
     "iopub.status.idle": "2023-02-27T08:30:15.968543Z",
     "shell.execute_reply": "2023-02-27T08:30:15.967542Z",
     "shell.execute_reply.started": "2023-02-27T08:30:15.366425Z"
    }
   },
   "outputs": [],
   "source": [
    "co2_vs_gdp_scatterplot = co2_vs_gdp_scatterplot_pipeline.hvplot(x='gdp_per_capita', \n",
    "                                                                y='co2', \n",
    "                                                                by='country', \n",
    "                                                                size=80, kind=\"scatter\", \n",
    "                                                                alpha=0.7,\n",
    "                                                                legend=False, \n",
    "                                                                height=500, \n",
    "                                                                width=500)\n",
    "#co2_vs_gdp_scatterplot"
   ]
  },
  {
   "cell_type": "markdown",
   "id": "582ad1e4-a76a-4033-b380-bf1a82db634e",
   "metadata": {},
   "source": [
    "## (4) Bar chart with CO2 sources by continent"
   ]
  },
  {
   "cell_type": "code",
   "execution_count": 21,
   "id": "5bf7f84e-44b1-4e4b-9486-7cfd10fa0d03",
   "metadata": {
    "execution": {
     "iopub.execute_input": "2023-02-27T08:30:15.969543Z",
     "iopub.status.busy": "2023-02-27T08:30:15.968543Z",
     "iopub.status.idle": "2023-02-27T08:30:16.616874Z",
     "shell.execute_reply": "2023-02-27T08:30:16.616874Z",
     "shell.execute_reply.started": "2023-02-27T08:30:15.969543Z"
    }
   },
   "outputs": [],
   "source": [
    "yaxis_co2_source = pn.widgets.RadioButtonGroup(\n",
    "    name='Y axis', \n",
    "    options=['coal_co2', 'oil_co2', 'gas_co2'], \n",
    "    button_type='success'\n",
    ")\n",
    "\n",
    "continents_excl_world = ['Asia', 'Oceania', 'Europe', 'Africa', 'North America', 'South America', 'Antarctica']\n",
    "\n",
    "co2_source_bar_pipeline = (\n",
    "    idf[\n",
    "        (idf.year == year_slider) &\n",
    "        (idf.country.isin(continents_excl_world))\n",
    "    ]\n",
    "    .groupby(['year', 'country'])[yaxis_co2_source].sum()\n",
    "    .to_frame()\n",
    "    .reset_index()\n",
    "    .sort_values(by='year')  \n",
    "    .reset_index(drop=True)\n",
    ")"
   ]
  },
  {
   "cell_type": "code",
   "execution_count": 22,
   "id": "2c80f1dd-a24d-4342-916c-be7720ee0988",
   "metadata": {
    "execution": {
     "iopub.execute_input": "2023-02-27T08:30:16.617823Z",
     "iopub.status.busy": "2023-02-27T08:30:16.617823Z",
     "iopub.status.idle": "2023-02-27T08:30:16.697654Z",
     "shell.execute_reply": "2023-02-27T08:30:16.696618Z",
     "shell.execute_reply.started": "2023-02-27T08:30:16.617823Z"
    }
   },
   "outputs": [],
   "source": [
    "co2_source_bar_plot = co2_source_bar_pipeline.hvplot(kind='bar', \n",
    "                                                     x='country', \n",
    "                                                     y=yaxis_co2_source, \n",
    "                                                     title='CO2 source by continent')\n",
    "#co2_source_bar_plot"
   ]
  },
  {
   "cell_type": "markdown",
   "id": "ef1d523e-0409-4024-9783-2b654b8f9d53",
   "metadata": {},
   "source": [
    "## Creating Dashboard"
   ]
  },
  {
   "cell_type": "code",
   "execution_count": 23,
   "id": "1c2e45bf-37c7-48e0-a2d3-a36da8843362",
   "metadata": {
    "execution": {
     "iopub.execute_input": "2023-02-27T08:30:16.698654Z",
     "iopub.status.busy": "2023-02-27T08:30:16.698654Z",
     "iopub.status.idle": "2023-02-27T08:30:16.712898Z",
     "shell.execute_reply": "2023-02-27T08:30:16.711889Z",
     "shell.execute_reply.started": "2023-02-27T08:30:16.698654Z"
    }
   },
   "outputs": [],
   "source": [
    "# #Layout using Template\n",
    "# template = pn.template.FastListTemplate(\n",
    "#     title='World CO2 emission dashboard', \n",
    "#     sidebar=[pn.pane.Markdown(\"# CO2 Emissions and Climate Change\"), \n",
    "#              pn.pane.Markdown(\"#### Carbon dioxide emissions are the primary driver of global climate change. It’s widely recognised that to avoid the worst impacts of climate change, the world needs to urgently reduce emissions. But, how this responsibility is shared between regions, countries, and individuals has been an endless point of contention in international discussions.\"), \n",
    "#              pn.pane.PNG('./climate_day.png', sizing_mode='scale_both'),\n",
    "#              pn.pane.Markdown(\"## Settings\"),   \n",
    "#              year_slider],\n",
    "#     main=[pn.Row(pn.Column(yaxis_co2, \n",
    "#                            co2_plot.panel(width=700), margin=(0,25)), \n",
    "#                  co2_table.panel(width=500)), \n",
    "#           pn.Row(pn.Column(co2_vs_gdp_scatterplot.panel(width=600), margin=(0,25)), \n",
    "#                  pn.Column(yaxis_co2_source, co2_source_bar_plot.panel(width=600)))],\n",
    "#     accent_base_color=\"#88d8b0\",\n",
    "#     header_background=\"#88d8b0\",\n",
    "# )\n",
    "# # template.show()\n",
    "# template.servable();"
   ]
  },
  {
   "cell_type": "code",
   "execution_count": 24,
   "id": "438f8daa-0017-4cb2-a8cb-c86784a6ab52",
   "metadata": {
    "execution": {
     "iopub.execute_input": "2023-02-27T08:30:16.713896Z",
     "iopub.status.busy": "2023-02-27T08:30:16.713896Z",
     "iopub.status.idle": "2023-02-27T08:30:17.408234Z",
     "shell.execute_reply": "2023-02-27T08:30:17.407331Z",
     "shell.execute_reply.started": "2023-02-27T08:30:16.713896Z"
    },
    "tags": []
   },
   "outputs": [
    {
     "name": "stdout",
     "output_type": "stream",
     "text": [
      "server setup time: 0.7 seconds.\n"
     ]
    }
   ],
   "source": [
    "#Layout using Template\n",
    "timestamp_before_server = time.time()\n",
    "template = pn.template.FastListTemplate(\n",
    "    title='World CO2 emission dashboard', \n",
    "    sidebar=[pn.pane.Markdown(\"# CO2 Emissions and Climate Change\"), \n",
    "             pn.pane.Markdown(\"#### Carbon dioxide emissions are the primary driver of global climate change. It’s widely recognised that to avoid the worst impacts of climate change, the world needs to urgently reduce emissions. But, how this responsibility is shared between regions, countries, and individuals has been an endless point of contention in international discussions.\"),              \n",
    "             pn.pane.Markdown(\"## Settings\"),   \n",
    "             year_slider],\n",
    "    main=[pn.Row(pn.Column(yaxis_co2, \n",
    "                           co2_plot.panel(width=700), margin=(0,25)), \n",
    "                 co2_table.panel(width=500)), \n",
    "          pn.Row(pn.Column(co2_vs_gdp_scatterplot.panel(width=600), margin=(0,25)), \n",
    "                 pn.Column(yaxis_co2_source, co2_source_bar_plot.panel(width=600)))],\n",
    "    accent_base_color=\"#88d8b0\",\n",
    "    header_background=\"#88d8b0\",\n",
    ")\n",
    "# template.show()\n",
    "template.servable()\n",
    "end_time = time.time()\n",
    "print(\"server setup time: %2.1f seconds.\"%(end_time - timestamp_before_server))\n",
    "print(\"code exec. time: %2.1f seconds.\"%(time.time() - script_start_time))"
   ]
  }
 ],
 "metadata": {
  "kernelspec": {
   "display_name": "env_panel",
   "language": "python",
   "name": "env_panel"
  },
  "language_info": {
   "codemirror_mode": {
    "name": "ipython",
    "version": 3
   },
   "file_extension": ".py",
   "mimetype": "text/x-python",
   "name": "python",
   "nbconvert_exporter": "python",
   "pygments_lexer": "ipython3",
   "version": "3.9.13"
  }
 },
 "nbformat": 4,
 "nbformat_minor": 5
}
